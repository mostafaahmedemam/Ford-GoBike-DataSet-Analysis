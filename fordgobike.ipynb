{
  "nbformat": 4,
  "nbformat_minor": 0,
  "metadata": {
    "colab": {
      "name": "fordgobike.ipynb",
      "provenance": [],
      "collapsed_sections": []
    },
    "kernelspec": {
      "name": "python3",
      "display_name": "Python 3"
    },
    "accelerator": "GPU"
  },
  "cells": [
    {
      "cell_type": "markdown",
      "metadata": {
        "id": "3yTvUTfK2h7Q"
      },
      "source": [
        "##I choose ford GoBike system data-set , which includes information about individual rides made in a bike-sharing system covering the greater San Francisco Bay area. "
      ]
    },
    {
      "cell_type": "code",
      "metadata": {
        "id": "VTJP37lSMc9v"
      },
      "source": [
        "import numpy as np\r\n",
        "import pandas as pd\r\n",
        "import matplotlib.pyplot as plt\r\n",
        "import seaborn as sb\r\n",
        "import os\r\n",
        "import glob\r\n",
        "\r\n",
        "%matplotlib inline"
      ],
      "execution_count": 1,
      "outputs": []
    },
    {
      "cell_type": "markdown",
      "metadata": {
        "id": "C8VBdhC-3QX_"
      },
      "source": [
        "**A-Assessing Data**"
      ]
    },
    {
      "cell_type": "code",
      "metadata": {
        "id": "otQJhL950AqZ"
      },
      "source": [
        "bike_ford_df=pd.read_csv('/content/drive/MyDrive/201902-fordgobike-tripdata.csv')\r\n",
        "#df=pd.read_csv('/content/drive/MyDrive/fordbike.csv', sep=', ', delimiter=None,  header='infer', names=None, \r\n",
        "#                index_col=None, usecols=None, squeeze=False, engine=None,)"
      ],
      "execution_count": 2,
      "outputs": []
    },
    {
      "cell_type": "code",
      "metadata": {
        "colab": {
          "base_uri": "https://localhost:8080/",
          "height": 565
        },
        "id": "ykfvquOe0Osi",
        "outputId": "33d6f533-58f9-481d-f4aa-a691001abc44"
      },
      "source": [
        "bike_ford_df.head(10)"
      ],
      "execution_count": 3,
      "outputs": [
        {
          "output_type": "execute_result",
          "data": {
            "text/html": [
              "<div>\n",
              "<style scoped>\n",
              "    .dataframe tbody tr th:only-of-type {\n",
              "        vertical-align: middle;\n",
              "    }\n",
              "\n",
              "    .dataframe tbody tr th {\n",
              "        vertical-align: top;\n",
              "    }\n",
              "\n",
              "    .dataframe thead th {\n",
              "        text-align: right;\n",
              "    }\n",
              "</style>\n",
              "<table border=\"1\" class=\"dataframe\">\n",
              "  <thead>\n",
              "    <tr style=\"text-align: right;\">\n",
              "      <th></th>\n",
              "      <th>duration_sec</th>\n",
              "      <th>start_time</th>\n",
              "      <th>end_time</th>\n",
              "      <th>start_station_id</th>\n",
              "      <th>start_station_name</th>\n",
              "      <th>start_station_latitude</th>\n",
              "      <th>start_station_longitude</th>\n",
              "      <th>end_station_id</th>\n",
              "      <th>end_station_name</th>\n",
              "      <th>end_station_latitude</th>\n",
              "      <th>end_station_longitude</th>\n",
              "      <th>bike_id</th>\n",
              "      <th>user_type</th>\n",
              "      <th>member_birth_year</th>\n",
              "      <th>member_gender</th>\n",
              "      <th>bike_share_for_all_trip</th>\n",
              "    </tr>\n",
              "  </thead>\n",
              "  <tbody>\n",
              "    <tr>\n",
              "      <th>0</th>\n",
              "      <td>52185</td>\n",
              "      <td>2019-02-28 17:32:10.1450</td>\n",
              "      <td>2019-03-01 08:01:55.9750</td>\n",
              "      <td>21.0</td>\n",
              "      <td>Montgomery St BART Station (Market St at 2nd St)</td>\n",
              "      <td>37.789625</td>\n",
              "      <td>-122.400811</td>\n",
              "      <td>13.0</td>\n",
              "      <td>Commercial St at Montgomery St</td>\n",
              "      <td>37.794231</td>\n",
              "      <td>-122.402923</td>\n",
              "      <td>4902</td>\n",
              "      <td>Customer</td>\n",
              "      <td>1984.0</td>\n",
              "      <td>Male</td>\n",
              "      <td>No</td>\n",
              "    </tr>\n",
              "    <tr>\n",
              "      <th>1</th>\n",
              "      <td>42521</td>\n",
              "      <td>2019-02-28 18:53:21.7890</td>\n",
              "      <td>2019-03-01 06:42:03.0560</td>\n",
              "      <td>23.0</td>\n",
              "      <td>The Embarcadero at Steuart St</td>\n",
              "      <td>37.791464</td>\n",
              "      <td>-122.391034</td>\n",
              "      <td>81.0</td>\n",
              "      <td>Berry St at 4th St</td>\n",
              "      <td>37.775880</td>\n",
              "      <td>-122.393170</td>\n",
              "      <td>2535</td>\n",
              "      <td>Customer</td>\n",
              "      <td>NaN</td>\n",
              "      <td>NaN</td>\n",
              "      <td>No</td>\n",
              "    </tr>\n",
              "    <tr>\n",
              "      <th>2</th>\n",
              "      <td>61854</td>\n",
              "      <td>2019-02-28 12:13:13.2180</td>\n",
              "      <td>2019-03-01 05:24:08.1460</td>\n",
              "      <td>86.0</td>\n",
              "      <td>Market St at Dolores St</td>\n",
              "      <td>37.769305</td>\n",
              "      <td>-122.426826</td>\n",
              "      <td>3.0</td>\n",
              "      <td>Powell St BART Station (Market St at 4th St)</td>\n",
              "      <td>37.786375</td>\n",
              "      <td>-122.404904</td>\n",
              "      <td>5905</td>\n",
              "      <td>Customer</td>\n",
              "      <td>1972.0</td>\n",
              "      <td>Male</td>\n",
              "      <td>No</td>\n",
              "    </tr>\n",
              "    <tr>\n",
              "      <th>3</th>\n",
              "      <td>36490</td>\n",
              "      <td>2019-02-28 17:54:26.0100</td>\n",
              "      <td>2019-03-01 04:02:36.8420</td>\n",
              "      <td>375.0</td>\n",
              "      <td>Grove St at Masonic Ave</td>\n",
              "      <td>37.774836</td>\n",
              "      <td>-122.446546</td>\n",
              "      <td>70.0</td>\n",
              "      <td>Central Ave at Fell St</td>\n",
              "      <td>37.773311</td>\n",
              "      <td>-122.444293</td>\n",
              "      <td>6638</td>\n",
              "      <td>Subscriber</td>\n",
              "      <td>1989.0</td>\n",
              "      <td>Other</td>\n",
              "      <td>No</td>\n",
              "    </tr>\n",
              "    <tr>\n",
              "      <th>4</th>\n",
              "      <td>1585</td>\n",
              "      <td>2019-02-28 23:54:18.5490</td>\n",
              "      <td>2019-03-01 00:20:44.0740</td>\n",
              "      <td>7.0</td>\n",
              "      <td>Frank H Ogawa Plaza</td>\n",
              "      <td>37.804562</td>\n",
              "      <td>-122.271738</td>\n",
              "      <td>222.0</td>\n",
              "      <td>10th Ave at E 15th St</td>\n",
              "      <td>37.792714</td>\n",
              "      <td>-122.248780</td>\n",
              "      <td>4898</td>\n",
              "      <td>Subscriber</td>\n",
              "      <td>1974.0</td>\n",
              "      <td>Male</td>\n",
              "      <td>Yes</td>\n",
              "    </tr>\n",
              "    <tr>\n",
              "      <th>5</th>\n",
              "      <td>1793</td>\n",
              "      <td>2019-02-28 23:49:58.6320</td>\n",
              "      <td>2019-03-01 00:19:51.7600</td>\n",
              "      <td>93.0</td>\n",
              "      <td>4th St at Mission Bay Blvd S</td>\n",
              "      <td>37.770407</td>\n",
              "      <td>-122.391198</td>\n",
              "      <td>323.0</td>\n",
              "      <td>Broadway at Kearny</td>\n",
              "      <td>37.798014</td>\n",
              "      <td>-122.405950</td>\n",
              "      <td>5200</td>\n",
              "      <td>Subscriber</td>\n",
              "      <td>1959.0</td>\n",
              "      <td>Male</td>\n",
              "      <td>No</td>\n",
              "    </tr>\n",
              "    <tr>\n",
              "      <th>6</th>\n",
              "      <td>1147</td>\n",
              "      <td>2019-02-28 23:55:35.1040</td>\n",
              "      <td>2019-03-01 00:14:42.5880</td>\n",
              "      <td>300.0</td>\n",
              "      <td>Palm St at Willow St</td>\n",
              "      <td>37.317298</td>\n",
              "      <td>-121.884995</td>\n",
              "      <td>312.0</td>\n",
              "      <td>San Jose Diridon Station</td>\n",
              "      <td>37.329732</td>\n",
              "      <td>-121.901782</td>\n",
              "      <td>3803</td>\n",
              "      <td>Subscriber</td>\n",
              "      <td>1983.0</td>\n",
              "      <td>Female</td>\n",
              "      <td>No</td>\n",
              "    </tr>\n",
              "    <tr>\n",
              "      <th>7</th>\n",
              "      <td>1615</td>\n",
              "      <td>2019-02-28 23:41:06.7660</td>\n",
              "      <td>2019-03-01 00:08:02.7560</td>\n",
              "      <td>10.0</td>\n",
              "      <td>Washington St at Kearny St</td>\n",
              "      <td>37.795393</td>\n",
              "      <td>-122.404770</td>\n",
              "      <td>127.0</td>\n",
              "      <td>Valencia St at 21st St</td>\n",
              "      <td>37.756708</td>\n",
              "      <td>-122.421025</td>\n",
              "      <td>6329</td>\n",
              "      <td>Subscriber</td>\n",
              "      <td>1989.0</td>\n",
              "      <td>Male</td>\n",
              "      <td>No</td>\n",
              "    </tr>\n",
              "    <tr>\n",
              "      <th>8</th>\n",
              "      <td>1570</td>\n",
              "      <td>2019-02-28 23:41:48.7900</td>\n",
              "      <td>2019-03-01 00:07:59.7150</td>\n",
              "      <td>10.0</td>\n",
              "      <td>Washington St at Kearny St</td>\n",
              "      <td>37.795393</td>\n",
              "      <td>-122.404770</td>\n",
              "      <td>127.0</td>\n",
              "      <td>Valencia St at 21st St</td>\n",
              "      <td>37.756708</td>\n",
              "      <td>-122.421025</td>\n",
              "      <td>6548</td>\n",
              "      <td>Subscriber</td>\n",
              "      <td>1988.0</td>\n",
              "      <td>Other</td>\n",
              "      <td>No</td>\n",
              "    </tr>\n",
              "    <tr>\n",
              "      <th>9</th>\n",
              "      <td>1049</td>\n",
              "      <td>2019-02-28 23:49:47.6990</td>\n",
              "      <td>2019-03-01 00:07:17.0250</td>\n",
              "      <td>19.0</td>\n",
              "      <td>Post St at Kearny St</td>\n",
              "      <td>37.788975</td>\n",
              "      <td>-122.403452</td>\n",
              "      <td>121.0</td>\n",
              "      <td>Mission Playground</td>\n",
              "      <td>37.759210</td>\n",
              "      <td>-122.421339</td>\n",
              "      <td>6488</td>\n",
              "      <td>Subscriber</td>\n",
              "      <td>1992.0</td>\n",
              "      <td>Male</td>\n",
              "      <td>No</td>\n",
              "    </tr>\n",
              "  </tbody>\n",
              "</table>\n",
              "</div>"
            ],
            "text/plain": [
              "   duration_sec                start_time  ... member_gender  bike_share_for_all_trip\n",
              "0         52185  2019-02-28 17:32:10.1450  ...          Male                       No\n",
              "1         42521  2019-02-28 18:53:21.7890  ...           NaN                       No\n",
              "2         61854  2019-02-28 12:13:13.2180  ...          Male                       No\n",
              "3         36490  2019-02-28 17:54:26.0100  ...         Other                       No\n",
              "4          1585  2019-02-28 23:54:18.5490  ...          Male                      Yes\n",
              "5          1793  2019-02-28 23:49:58.6320  ...          Male                       No\n",
              "6          1147  2019-02-28 23:55:35.1040  ...        Female                       No\n",
              "7          1615  2019-02-28 23:41:06.7660  ...          Male                       No\n",
              "8          1570  2019-02-28 23:41:48.7900  ...         Other                       No\n",
              "9          1049  2019-02-28 23:49:47.6990  ...          Male                       No\n",
              "\n",
              "[10 rows x 16 columns]"
            ]
          },
          "metadata": {
            "tags": []
          },
          "execution_count": 3
        }
      ]
    },
    {
      "cell_type": "markdown",
      "metadata": {
        "id": "IUaqZtvC3XSb"
      },
      "source": [
        "**B- Data exploeration**"
      ]
    },
    {
      "cell_type": "code",
      "metadata": {
        "colab": {
          "base_uri": "https://localhost:8080/"
        },
        "id": "u4EAlbiz1Yo8",
        "outputId": "f766de2f-4727-4986-ed28-0e6aea989a26"
      },
      "source": [
        "bike_ford_df.info()"
      ],
      "execution_count": 4,
      "outputs": [
        {
          "output_type": "stream",
          "text": [
            "<class 'pandas.core.frame.DataFrame'>\n",
            "RangeIndex: 183412 entries, 0 to 183411\n",
            "Data columns (total 16 columns):\n",
            " #   Column                   Non-Null Count   Dtype  \n",
            "---  ------                   --------------   -----  \n",
            " 0   duration_sec             183412 non-null  int64  \n",
            " 1   start_time               183412 non-null  object \n",
            " 2   end_time                 183412 non-null  object \n",
            " 3   start_station_id         183215 non-null  float64\n",
            " 4   start_station_name       183215 non-null  object \n",
            " 5   start_station_latitude   183412 non-null  float64\n",
            " 6   start_station_longitude  183412 non-null  float64\n",
            " 7   end_station_id           183215 non-null  float64\n",
            " 8   end_station_name         183215 non-null  object \n",
            " 9   end_station_latitude     183412 non-null  float64\n",
            " 10  end_station_longitude    183412 non-null  float64\n",
            " 11  bike_id                  183412 non-null  int64  \n",
            " 12  user_type                183412 non-null  object \n",
            " 13  member_birth_year        175147 non-null  float64\n",
            " 14  member_gender            175147 non-null  object \n",
            " 15  bike_share_for_all_trip  183412 non-null  object \n",
            "dtypes: float64(7), int64(2), object(7)\n",
            "memory usage: 22.4+ MB\n"
          ],
          "name": "stdout"
        }
      ]
    },
    {
      "cell_type": "code",
      "metadata": {
        "colab": {
          "base_uri": "https://localhost:8080/"
        },
        "id": "gZjN4fvn3lwa",
        "outputId": "2792d36f-6f3d-497c-fe4f-7f41dcde8451"
      },
      "source": [
        "bike_ford_df.isnull().sum()"
      ],
      "execution_count": 5,
      "outputs": [
        {
          "output_type": "execute_result",
          "data": {
            "text/plain": [
              "duration_sec                  0\n",
              "start_time                    0\n",
              "end_time                      0\n",
              "start_station_id            197\n",
              "start_station_name          197\n",
              "start_station_latitude        0\n",
              "start_station_longitude       0\n",
              "end_station_id              197\n",
              "end_station_name            197\n",
              "end_station_latitude          0\n",
              "end_station_longitude         0\n",
              "bike_id                       0\n",
              "user_type                     0\n",
              "member_birth_year          8265\n",
              "member_gender              8265\n",
              "bike_share_for_all_trip       0\n",
              "dtype: int64"
            ]
          },
          "metadata": {
            "tags": []
          },
          "execution_count": 5
        }
      ]
    },
    {
      "cell_type": "code",
      "metadata": {
        "id": "Yu8lcWcb7MhY"
      },
      "source": [
        "most_missing_cols = set(bike_ford_df.columns[bike_ford_df.isnull().mean() > 0.50])"
      ],
      "execution_count": 6,
      "outputs": []
    },
    {
      "cell_type": "code",
      "metadata": {
        "colab": {
          "base_uri": "https://localhost:8080/"
        },
        "id": "m0Hh28zx3wRf",
        "outputId": "70736eae-cdd6-4ba1-8979-7bfc8cd77f2d"
      },
      "source": [
        "most_missing_cols"
      ],
      "execution_count": 33,
      "outputs": [
        {
          "output_type": "execute_result",
          "data": {
            "text/plain": [
              "set()"
            ]
          },
          "metadata": {
            "tags": []
          },
          "execution_count": 33
        }
      ]
    },
    {
      "cell_type": "markdown",
      "metadata": {
        "id": "_wQO-EGn5UZG"
      },
      "source": [
        "**C- Data Cleaning**"
      ]
    },
    {
      "cell_type": "code",
      "metadata": {
        "colab": {
          "base_uri": "https://localhost:8080/"
        },
        "id": "9e1oc4818qPH",
        "outputId": "95084636-7d29-40a7-acc3-b0c917025f4e"
      },
      "source": [
        "bike_ford_df['member_gender'].fillna('Other',inplace=True)\r\n",
        "bike_ford_df.isnull().sum()"
      ],
      "execution_count": 7,
      "outputs": [
        {
          "output_type": "execute_result",
          "data": {
            "text/plain": [
              "duration_sec                  0\n",
              "start_time                    0\n",
              "end_time                      0\n",
              "start_station_id            197\n",
              "start_station_name          197\n",
              "start_station_latitude        0\n",
              "start_station_longitude       0\n",
              "end_station_id              197\n",
              "end_station_name            197\n",
              "end_station_latitude          0\n",
              "end_station_longitude         0\n",
              "bike_id                       0\n",
              "user_type                     0\n",
              "member_birth_year          8265\n",
              "member_gender                 0\n",
              "bike_share_for_all_trip       0\n",
              "dtype: int64"
            ]
          },
          "metadata": {
            "tags": []
          },
          "execution_count": 7
        }
      ]
    },
    {
      "cell_type": "markdown",
      "metadata": {
        "id": "KuWYir8W3z5u"
      },
      "source": [
        "i fill all unknown gender to new class (unknown) "
      ]
    },
    {
      "cell_type": "code",
      "metadata": {
        "colab": {
          "base_uri": "https://localhost:8080/"
        },
        "id": "6XXkdZVFGFIP",
        "outputId": "7a7a9e59-7abb-47d3-898f-85fe2f71a5b9"
      },
      "source": [
        "bike_ford_df.info()"
      ],
      "execution_count": 8,
      "outputs": [
        {
          "output_type": "stream",
          "text": [
            "<class 'pandas.core.frame.DataFrame'>\n",
            "RangeIndex: 183412 entries, 0 to 183411\n",
            "Data columns (total 16 columns):\n",
            " #   Column                   Non-Null Count   Dtype  \n",
            "---  ------                   --------------   -----  \n",
            " 0   duration_sec             183412 non-null  int64  \n",
            " 1   start_time               183412 non-null  object \n",
            " 2   end_time                 183412 non-null  object \n",
            " 3   start_station_id         183215 non-null  float64\n",
            " 4   start_station_name       183215 non-null  object \n",
            " 5   start_station_latitude   183412 non-null  float64\n",
            " 6   start_station_longitude  183412 non-null  float64\n",
            " 7   end_station_id           183215 non-null  float64\n",
            " 8   end_station_name         183215 non-null  object \n",
            " 9   end_station_latitude     183412 non-null  float64\n",
            " 10  end_station_longitude    183412 non-null  float64\n",
            " 11  bike_id                  183412 non-null  int64  \n",
            " 12  user_type                183412 non-null  object \n",
            " 13  member_birth_year        175147 non-null  float64\n",
            " 14  member_gender            183412 non-null  object \n",
            " 15  bike_share_for_all_trip  183412 non-null  object \n",
            "dtypes: float64(7), int64(2), object(7)\n",
            "memory usage: 22.4+ MB\n"
          ],
          "name": "stdout"
        }
      ]
    },
    {
      "cell_type": "code",
      "metadata": {
        "id": "DB3ofNxZBBhl"
      },
      "source": [
        "bike_ford_df['member_birth_year'].fillna(bike_ford_df['member_birth_year'].mode(),inplace=True)"
      ],
      "execution_count": 9,
      "outputs": []
    },
    {
      "cell_type": "code",
      "metadata": {
        "colab": {
          "base_uri": "https://localhost:8080/"
        },
        "id": "50b3EcKTBcyo",
        "outputId": "a1dc82ec-7fa2-4f6a-c84f-cd9dcc77dc3c"
      },
      "source": [
        "bike_ford_df.dropna(0,inplace=True)\r\n",
        "bike_ford_df.isnull().sum()"
      ],
      "execution_count": 10,
      "outputs": [
        {
          "output_type": "execute_result",
          "data": {
            "text/plain": [
              "duration_sec               0\n",
              "start_time                 0\n",
              "end_time                   0\n",
              "start_station_id           0\n",
              "start_station_name         0\n",
              "start_station_latitude     0\n",
              "start_station_longitude    0\n",
              "end_station_id             0\n",
              "end_station_name           0\n",
              "end_station_latitude       0\n",
              "end_station_longitude      0\n",
              "bike_id                    0\n",
              "user_type                  0\n",
              "member_birth_year          0\n",
              "member_gender              0\n",
              "bike_share_for_all_trip    0\n",
              "dtype: int64"
            ]
          },
          "metadata": {
            "tags": []
          },
          "execution_count": 10
        }
      ]
    },
    {
      "cell_type": "markdown",
      "metadata": {
        "id": "uKKKhdGR4EtP"
      },
      "source": [
        "now we handle all missing data"
      ]
    },
    {
      "cell_type": "code",
      "metadata": {
        "id": "QhTU9j5iBzVA"
      },
      "source": [
        "#add new column member age\r\n",
        "bike_ford_df['member_age']=2021 - bike_ford_df['member_birth_year']"
      ],
      "execution_count": 11,
      "outputs": []
    },
    {
      "cell_type": "markdown",
      "metadata": {
        "id": "nqYV-VHy4Xu_"
      },
      "source": [
        "make a new attribute member age"
      ]
    },
    {
      "cell_type": "code",
      "metadata": {
        "id": "RYShmhl6CWI1"
      },
      "source": [
        "bike_ford = bike_ford_df.copy()\r\n",
        "bike_ford['start_time'] = pd.to_datetime(bike_ford['start_time'])\r\n",
        "bike_ford['end_time'] = pd.to_datetime(bike_ford['end_time'])\r\n"
      ],
      "execution_count": 12,
      "outputs": []
    },
    {
      "cell_type": "code",
      "metadata": {
        "colab": {
          "base_uri": "https://localhost:8080/"
        },
        "id": "zDRzXzFiD7o2",
        "outputId": "3502d507-f291-4d73-81f4-af95614e9196"
      },
      "source": [
        "bike_ford['member_gender'].value_counts()"
      ],
      "execution_count": 13,
      "outputs": [
        {
          "output_type": "execute_result",
          "data": {
            "text/plain": [
              "Male      130500\n",
              "Female     40805\n",
              "Other       3647\n",
              "Name: member_gender, dtype: int64"
            ]
          },
          "metadata": {
            "tags": []
          },
          "execution_count": 13
        }
      ]
    },
    {
      "cell_type": "code",
      "metadata": {
        "colab": {
          "base_uri": "https://localhost:8080/"
        },
        "id": "WDqiv_A-EjfT",
        "outputId": "38d14e2d-65c8-4b87-cb72-f7f9e41a96f9"
      },
      "source": [
        "bike_ford['start_station_name'].value_counts()"
      ],
      "execution_count": 14,
      "outputs": [
        {
          "output_type": "execute_result",
          "data": {
            "text/plain": [
              "Market St at 10th St                                         3649\n",
              "San Francisco Caltrain Station 2  (Townsend St at 4th St)    3408\n",
              "Berry St at 4th St                                           2952\n",
              "Montgomery St BART Station (Market St at 2nd St)             2711\n",
              "Powell St BART Station (Market St at 4th St)                 2620\n",
              "                                                             ... \n",
              "Willow St at Vine St                                            9\n",
              "Parker Ave at McAllister St                                     7\n",
              "21st Ave at International Blvd                                  4\n",
              "Palm St at Willow St                                            3\n",
              "16th St Depot                                                   2\n",
              "Name: start_station_name, Length: 329, dtype: int64"
            ]
          },
          "metadata": {
            "tags": []
          },
          "execution_count": 14
        }
      ]
    },
    {
      "cell_type": "code",
      "metadata": {
        "colab": {
          "base_uri": "https://localhost:8080/"
        },
        "id": "npLO_tY4EzBR",
        "outputId": "2b203a33-326b-4b13-d2aa-204b72381a5e"
      },
      "source": [
        "bike_ford['user_type'].value_counts()"
      ],
      "execution_count": 15,
      "outputs": [
        {
          "output_type": "execute_result",
          "data": {
            "text/plain": [
              "Subscriber    158386\n",
              "Customer       16566\n",
              "Name: user_type, dtype: int64"
            ]
          },
          "metadata": {
            "tags": []
          },
          "execution_count": 15
        }
      ]
    },
    {
      "cell_type": "code",
      "metadata": {
        "colab": {
          "base_uri": "https://localhost:8080/",
          "height": 598
        },
        "id": "fQOsWyBdC3gE",
        "outputId": "bb86f832-6068-4f0a-e437-cdd70eb6f5d9"
      },
      "source": [
        "bike_ford.head(10)"
      ],
      "execution_count": 16,
      "outputs": [
        {
          "output_type": "execute_result",
          "data": {
            "text/html": [
              "<div>\n",
              "<style scoped>\n",
              "    .dataframe tbody tr th:only-of-type {\n",
              "        vertical-align: middle;\n",
              "    }\n",
              "\n",
              "    .dataframe tbody tr th {\n",
              "        vertical-align: top;\n",
              "    }\n",
              "\n",
              "    .dataframe thead th {\n",
              "        text-align: right;\n",
              "    }\n",
              "</style>\n",
              "<table border=\"1\" class=\"dataframe\">\n",
              "  <thead>\n",
              "    <tr style=\"text-align: right;\">\n",
              "      <th></th>\n",
              "      <th>duration_sec</th>\n",
              "      <th>start_time</th>\n",
              "      <th>end_time</th>\n",
              "      <th>start_station_id</th>\n",
              "      <th>start_station_name</th>\n",
              "      <th>start_station_latitude</th>\n",
              "      <th>start_station_longitude</th>\n",
              "      <th>end_station_id</th>\n",
              "      <th>end_station_name</th>\n",
              "      <th>end_station_latitude</th>\n",
              "      <th>end_station_longitude</th>\n",
              "      <th>bike_id</th>\n",
              "      <th>user_type</th>\n",
              "      <th>member_birth_year</th>\n",
              "      <th>member_gender</th>\n",
              "      <th>bike_share_for_all_trip</th>\n",
              "      <th>member_age</th>\n",
              "    </tr>\n",
              "  </thead>\n",
              "  <tbody>\n",
              "    <tr>\n",
              "      <th>0</th>\n",
              "      <td>52185</td>\n",
              "      <td>2019-02-28 17:32:10.145</td>\n",
              "      <td>2019-03-01 08:01:55.975</td>\n",
              "      <td>21.0</td>\n",
              "      <td>Montgomery St BART Station (Market St at 2nd St)</td>\n",
              "      <td>37.789625</td>\n",
              "      <td>-122.400811</td>\n",
              "      <td>13.0</td>\n",
              "      <td>Commercial St at Montgomery St</td>\n",
              "      <td>37.794231</td>\n",
              "      <td>-122.402923</td>\n",
              "      <td>4902</td>\n",
              "      <td>Customer</td>\n",
              "      <td>1984.0</td>\n",
              "      <td>Male</td>\n",
              "      <td>No</td>\n",
              "      <td>37.0</td>\n",
              "    </tr>\n",
              "    <tr>\n",
              "      <th>2</th>\n",
              "      <td>61854</td>\n",
              "      <td>2019-02-28 12:13:13.218</td>\n",
              "      <td>2019-03-01 05:24:08.146</td>\n",
              "      <td>86.0</td>\n",
              "      <td>Market St at Dolores St</td>\n",
              "      <td>37.769305</td>\n",
              "      <td>-122.426826</td>\n",
              "      <td>3.0</td>\n",
              "      <td>Powell St BART Station (Market St at 4th St)</td>\n",
              "      <td>37.786375</td>\n",
              "      <td>-122.404904</td>\n",
              "      <td>5905</td>\n",
              "      <td>Customer</td>\n",
              "      <td>1972.0</td>\n",
              "      <td>Male</td>\n",
              "      <td>No</td>\n",
              "      <td>49.0</td>\n",
              "    </tr>\n",
              "    <tr>\n",
              "      <th>3</th>\n",
              "      <td>36490</td>\n",
              "      <td>2019-02-28 17:54:26.010</td>\n",
              "      <td>2019-03-01 04:02:36.842</td>\n",
              "      <td>375.0</td>\n",
              "      <td>Grove St at Masonic Ave</td>\n",
              "      <td>37.774836</td>\n",
              "      <td>-122.446546</td>\n",
              "      <td>70.0</td>\n",
              "      <td>Central Ave at Fell St</td>\n",
              "      <td>37.773311</td>\n",
              "      <td>-122.444293</td>\n",
              "      <td>6638</td>\n",
              "      <td>Subscriber</td>\n",
              "      <td>1989.0</td>\n",
              "      <td>Other</td>\n",
              "      <td>No</td>\n",
              "      <td>32.0</td>\n",
              "    </tr>\n",
              "    <tr>\n",
              "      <th>4</th>\n",
              "      <td>1585</td>\n",
              "      <td>2019-02-28 23:54:18.549</td>\n",
              "      <td>2019-03-01 00:20:44.074</td>\n",
              "      <td>7.0</td>\n",
              "      <td>Frank H Ogawa Plaza</td>\n",
              "      <td>37.804562</td>\n",
              "      <td>-122.271738</td>\n",
              "      <td>222.0</td>\n",
              "      <td>10th Ave at E 15th St</td>\n",
              "      <td>37.792714</td>\n",
              "      <td>-122.248780</td>\n",
              "      <td>4898</td>\n",
              "      <td>Subscriber</td>\n",
              "      <td>1974.0</td>\n",
              "      <td>Male</td>\n",
              "      <td>Yes</td>\n",
              "      <td>47.0</td>\n",
              "    </tr>\n",
              "    <tr>\n",
              "      <th>5</th>\n",
              "      <td>1793</td>\n",
              "      <td>2019-02-28 23:49:58.632</td>\n",
              "      <td>2019-03-01 00:19:51.760</td>\n",
              "      <td>93.0</td>\n",
              "      <td>4th St at Mission Bay Blvd S</td>\n",
              "      <td>37.770407</td>\n",
              "      <td>-122.391198</td>\n",
              "      <td>323.0</td>\n",
              "      <td>Broadway at Kearny</td>\n",
              "      <td>37.798014</td>\n",
              "      <td>-122.405950</td>\n",
              "      <td>5200</td>\n",
              "      <td>Subscriber</td>\n",
              "      <td>1959.0</td>\n",
              "      <td>Male</td>\n",
              "      <td>No</td>\n",
              "      <td>62.0</td>\n",
              "    </tr>\n",
              "    <tr>\n",
              "      <th>6</th>\n",
              "      <td>1147</td>\n",
              "      <td>2019-02-28 23:55:35.104</td>\n",
              "      <td>2019-03-01 00:14:42.588</td>\n",
              "      <td>300.0</td>\n",
              "      <td>Palm St at Willow St</td>\n",
              "      <td>37.317298</td>\n",
              "      <td>-121.884995</td>\n",
              "      <td>312.0</td>\n",
              "      <td>San Jose Diridon Station</td>\n",
              "      <td>37.329732</td>\n",
              "      <td>-121.901782</td>\n",
              "      <td>3803</td>\n",
              "      <td>Subscriber</td>\n",
              "      <td>1983.0</td>\n",
              "      <td>Female</td>\n",
              "      <td>No</td>\n",
              "      <td>38.0</td>\n",
              "    </tr>\n",
              "    <tr>\n",
              "      <th>7</th>\n",
              "      <td>1615</td>\n",
              "      <td>2019-02-28 23:41:06.766</td>\n",
              "      <td>2019-03-01 00:08:02.756</td>\n",
              "      <td>10.0</td>\n",
              "      <td>Washington St at Kearny St</td>\n",
              "      <td>37.795393</td>\n",
              "      <td>-122.404770</td>\n",
              "      <td>127.0</td>\n",
              "      <td>Valencia St at 21st St</td>\n",
              "      <td>37.756708</td>\n",
              "      <td>-122.421025</td>\n",
              "      <td>6329</td>\n",
              "      <td>Subscriber</td>\n",
              "      <td>1989.0</td>\n",
              "      <td>Male</td>\n",
              "      <td>No</td>\n",
              "      <td>32.0</td>\n",
              "    </tr>\n",
              "    <tr>\n",
              "      <th>8</th>\n",
              "      <td>1570</td>\n",
              "      <td>2019-02-28 23:41:48.790</td>\n",
              "      <td>2019-03-01 00:07:59.715</td>\n",
              "      <td>10.0</td>\n",
              "      <td>Washington St at Kearny St</td>\n",
              "      <td>37.795393</td>\n",
              "      <td>-122.404770</td>\n",
              "      <td>127.0</td>\n",
              "      <td>Valencia St at 21st St</td>\n",
              "      <td>37.756708</td>\n",
              "      <td>-122.421025</td>\n",
              "      <td>6548</td>\n",
              "      <td>Subscriber</td>\n",
              "      <td>1988.0</td>\n",
              "      <td>Other</td>\n",
              "      <td>No</td>\n",
              "      <td>33.0</td>\n",
              "    </tr>\n",
              "    <tr>\n",
              "      <th>9</th>\n",
              "      <td>1049</td>\n",
              "      <td>2019-02-28 23:49:47.699</td>\n",
              "      <td>2019-03-01 00:07:17.025</td>\n",
              "      <td>19.0</td>\n",
              "      <td>Post St at Kearny St</td>\n",
              "      <td>37.788975</td>\n",
              "      <td>-122.403452</td>\n",
              "      <td>121.0</td>\n",
              "      <td>Mission Playground</td>\n",
              "      <td>37.759210</td>\n",
              "      <td>-122.421339</td>\n",
              "      <td>6488</td>\n",
              "      <td>Subscriber</td>\n",
              "      <td>1992.0</td>\n",
              "      <td>Male</td>\n",
              "      <td>No</td>\n",
              "      <td>29.0</td>\n",
              "    </tr>\n",
              "    <tr>\n",
              "      <th>10</th>\n",
              "      <td>458</td>\n",
              "      <td>2019-02-28 23:57:57.211</td>\n",
              "      <td>2019-03-01 00:05:35.435</td>\n",
              "      <td>370.0</td>\n",
              "      <td>Jones St at Post St</td>\n",
              "      <td>37.787327</td>\n",
              "      <td>-122.413278</td>\n",
              "      <td>43.0</td>\n",
              "      <td>San Francisco Public Library (Grove St at Hyde...</td>\n",
              "      <td>37.778768</td>\n",
              "      <td>-122.415929</td>\n",
              "      <td>5318</td>\n",
              "      <td>Subscriber</td>\n",
              "      <td>1996.0</td>\n",
              "      <td>Female</td>\n",
              "      <td>Yes</td>\n",
              "      <td>25.0</td>\n",
              "    </tr>\n",
              "  </tbody>\n",
              "</table>\n",
              "</div>"
            ],
            "text/plain": [
              "    duration_sec              start_time  ... bike_share_for_all_trip  member_age\n",
              "0          52185 2019-02-28 17:32:10.145  ...                      No        37.0\n",
              "2          61854 2019-02-28 12:13:13.218  ...                      No        49.0\n",
              "3          36490 2019-02-28 17:54:26.010  ...                      No        32.0\n",
              "4           1585 2019-02-28 23:54:18.549  ...                     Yes        47.0\n",
              "5           1793 2019-02-28 23:49:58.632  ...                      No        62.0\n",
              "6           1147 2019-02-28 23:55:35.104  ...                      No        38.0\n",
              "7           1615 2019-02-28 23:41:06.766  ...                      No        32.0\n",
              "8           1570 2019-02-28 23:41:48.790  ...                      No        33.0\n",
              "9           1049 2019-02-28 23:49:47.699  ...                      No        29.0\n",
              "10           458 2019-02-28 23:57:57.211  ...                     Yes        25.0\n",
              "\n",
              "[10 rows x 17 columns]"
            ]
          },
          "metadata": {
            "tags": []
          },
          "execution_count": 16
        }
      ]
    },
    {
      "cell_type": "markdown",
      "metadata": {
        "id": "jU783Gws5oBw"
      },
      "source": [
        "**D- Data Visualization**"
      ]
    },
    {
      "cell_type": "markdown",
      "metadata": {
        "id": "gYtBj_iu52qh"
      },
      "source": [
        "**1- Univariate**"
      ]
    },
    {
      "cell_type": "code",
      "metadata": {
        "colab": {
          "base_uri": "https://localhost:8080/",
          "height": 376
        },
        "id": "8RSUJXnFFBDf",
        "outputId": "270b6131-f4f8-4710-eefd-9770ece890c6"
      },
      "source": [
        "plt.figure(figsize=[8, 6])\r\n",
        "bins = np.arange(0, bike_ford['member_age'].max()+10, 10)\r\n",
        "plt.hist(bike_ford['member_age'], bins=bins);"
      ],
      "execution_count": 17,
      "outputs": [
        {
          "output_type": "display_data",
          "data": {
            "image/png": "[encoded data removed]",
            "text/plain": [
              "<Figure size 576x432 with 1 Axes>"
            ]
          },
          "metadata": {
            "tags": [],
            "needs_background": "light"
          }
        }
      ]
    },
    {
      "cell_type": "markdown",
      "metadata": {
        "id": "L0AsxqsKFa2T"
      },
      "source": [
        "here we found outlier values , greater than 80 so we will remove that out;iers\r\n"
      ]
    },
    {
      "cell_type": "code",
      "metadata": {
        "id": "TNiaYqjXFZic"
      },
      "source": [
        "bike_ford = bike_ford.query('member_age <= 80')\r\n"
      ],
      "execution_count": 34,
      "outputs": []
    },
    {
      "cell_type": "markdown",
      "metadata": {
        "id": "uZ4FXV5A4P8b"
      },
      "source": [
        "Remove all outliers in member_age attribute"
      ]
    },
    {
      "cell_type": "code",
      "metadata": {
        "id": "GFQWuOh7GSTE"
      },
      "source": [
        "\r\n",
        "\r\n",
        "bike_ford['duration_minute'] = bike_ford['duration_sec']/60\r\n",
        "\r\n",
        "bike_ford['start_date'] = bike_ford.start_time.dt.strftime('%Y-%m-%d')\r\n",
        "bike_ford['start_hour'] = bike_ford.start_time.dt.strftime('%H')\r\n",
        "bike_ford['start_week'] = bike_ford.start_time.dt.strftime('%A')\r\n",
        "bike_ford['start_month'] = bike_ford.start_time.dt.strftime('%B')\r\n"
      ],
      "execution_count": 19,
      "outputs": []
    },
    {
      "cell_type": "markdown",
      "metadata": {
        "id": "GiAtXcSR4tjI"
      },
      "source": [
        "make new attributes show start trip (hour,day,month)"
      ]
    },
    {
      "cell_type": "code",
      "metadata": {
        "colab": {
          "base_uri": "https://localhost:8080/",
          "height": 333
        },
        "id": "sP3RqBxmIHHc",
        "outputId": "e86f8e19-250b-418f-f08c-ffcf1269df0b"
      },
      "source": [
        "bike_ford.head()"
      ],
      "execution_count": 20,
      "outputs": [
        {
          "output_type": "execute_result",
          "data": {
            "text/html": [
              "<div>\n",
              "<style scoped>\n",
              "    .dataframe tbody tr th:only-of-type {\n",
              "        vertical-align: middle;\n",
              "    }\n",
              "\n",
              "    .dataframe tbody tr th {\n",
              "        vertical-align: top;\n",
              "    }\n",
              "\n",
              "    .dataframe thead th {\n",
              "        text-align: right;\n",
              "    }\n",
              "</style>\n",
              "<table border=\"1\" class=\"dataframe\">\n",
              "  <thead>\n",
              "    <tr style=\"text-align: right;\">\n",
              "      <th></th>\n",
              "      <th>duration_sec</th>\n",
              "      <th>start_time</th>\n",
              "      <th>end_time</th>\n",
              "      <th>start_station_id</th>\n",
              "      <th>start_station_name</th>\n",
              "      <th>start_station_latitude</th>\n",
              "      <th>start_station_longitude</th>\n",
              "      <th>end_station_id</th>\n",
              "      <th>end_station_name</th>\n",
              "      <th>end_station_latitude</th>\n",
              "      <th>end_station_longitude</th>\n",
              "      <th>bike_id</th>\n",
              "      <th>user_type</th>\n",
              "      <th>member_birth_year</th>\n",
              "      <th>member_gender</th>\n",
              "      <th>bike_share_for_all_trip</th>\n",
              "      <th>member_age</th>\n",
              "      <th>duration_minute</th>\n",
              "      <th>start_date</th>\n",
              "      <th>start_hour</th>\n",
              "      <th>start_week</th>\n",
              "      <th>start_month</th>\n",
              "    </tr>\n",
              "  </thead>\n",
              "  <tbody>\n",
              "    <tr>\n",
              "      <th>0</th>\n",
              "      <td>52185</td>\n",
              "      <td>2019-02-28 17:32:10.145</td>\n",
              "      <td>2019-03-01 08:01:55.975</td>\n",
              "      <td>21.0</td>\n",
              "      <td>Montgomery St BART Station (Market St at 2nd St)</td>\n",
              "      <td>37.789625</td>\n",
              "      <td>-122.400811</td>\n",
              "      <td>13.0</td>\n",
              "      <td>Commercial St at Montgomery St</td>\n",
              "      <td>37.794231</td>\n",
              "      <td>-122.402923</td>\n",
              "      <td>4902</td>\n",
              "      <td>Customer</td>\n",
              "      <td>1984.0</td>\n",
              "      <td>Male</td>\n",
              "      <td>No</td>\n",
              "      <td>37.0</td>\n",
              "      <td>869.750000</td>\n",
              "      <td>2019-02-28</td>\n",
              "      <td>17</td>\n",
              "      <td>Thursday</td>\n",
              "      <td>February</td>\n",
              "    </tr>\n",
              "    <tr>\n",
              "      <th>2</th>\n",
              "      <td>61854</td>\n",
              "      <td>2019-02-28 12:13:13.218</td>\n",
              "      <td>2019-03-01 05:24:08.146</td>\n",
              "      <td>86.0</td>\n",
              "      <td>Market St at Dolores St</td>\n",
              "      <td>37.769305</td>\n",
              "      <td>-122.426826</td>\n",
              "      <td>3.0</td>\n",
              "      <td>Powell St BART Station (Market St at 4th St)</td>\n",
              "      <td>37.786375</td>\n",
              "      <td>-122.404904</td>\n",
              "      <td>5905</td>\n",
              "      <td>Customer</td>\n",
              "      <td>1972.0</td>\n",
              "      <td>Male</td>\n",
              "      <td>No</td>\n",
              "      <td>49.0</td>\n",
              "      <td>1030.900000</td>\n",
              "      <td>2019-02-28</td>\n",
              "      <td>12</td>\n",
              "      <td>Thursday</td>\n",
              "      <td>February</td>\n",
              "    </tr>\n",
              "    <tr>\n",
              "      <th>3</th>\n",
              "      <td>36490</td>\n",
              "      <td>2019-02-28 17:54:26.010</td>\n",
              "      <td>2019-03-01 04:02:36.842</td>\n",
              "      <td>375.0</td>\n",
              "      <td>Grove St at Masonic Ave</td>\n",
              "      <td>37.774836</td>\n",
              "      <td>-122.446546</td>\n",
              "      <td>70.0</td>\n",
              "      <td>Central Ave at Fell St</td>\n",
              "      <td>37.773311</td>\n",
              "      <td>-122.444293</td>\n",
              "      <td>6638</td>\n",
              "      <td>Subscriber</td>\n",
              "      <td>1989.0</td>\n",
              "      <td>Other</td>\n",
              "      <td>No</td>\n",
              "      <td>32.0</td>\n",
              "      <td>608.166667</td>\n",
              "      <td>2019-02-28</td>\n",
              "      <td>17</td>\n",
              "      <td>Thursday</td>\n",
              "      <td>February</td>\n",
              "    </tr>\n",
              "    <tr>\n",
              "      <th>4</th>\n",
              "      <td>1585</td>\n",
              "      <td>2019-02-28 23:54:18.549</td>\n",
              "      <td>2019-03-01 00:20:44.074</td>\n",
              "      <td>7.0</td>\n",
              "      <td>Frank H Ogawa Plaza</td>\n",
              "      <td>37.804562</td>\n",
              "      <td>-122.271738</td>\n",
              "      <td>222.0</td>\n",
              "      <td>10th Ave at E 15th St</td>\n",
              "      <td>37.792714</td>\n",
              "      <td>-122.248780</td>\n",
              "      <td>4898</td>\n",
              "      <td>Subscriber</td>\n",
              "      <td>1974.0</td>\n",
              "      <td>Male</td>\n",
              "      <td>Yes</td>\n",
              "      <td>47.0</td>\n",
              "      <td>26.416667</td>\n",
              "      <td>2019-02-28</td>\n",
              "      <td>23</td>\n",
              "      <td>Thursday</td>\n",
              "      <td>February</td>\n",
              "    </tr>\n",
              "    <tr>\n",
              "      <th>5</th>\n",
              "      <td>1793</td>\n",
              "      <td>2019-02-28 23:49:58.632</td>\n",
              "      <td>2019-03-01 00:19:51.760</td>\n",
              "      <td>93.0</td>\n",
              "      <td>4th St at Mission Bay Blvd S</td>\n",
              "      <td>37.770407</td>\n",
              "      <td>-122.391198</td>\n",
              "      <td>323.0</td>\n",
              "      <td>Broadway at Kearny</td>\n",
              "      <td>37.798014</td>\n",
              "      <td>-122.405950</td>\n",
              "      <td>5200</td>\n",
              "      <td>Subscriber</td>\n",
              "      <td>1959.0</td>\n",
              "      <td>Male</td>\n",
              "      <td>No</td>\n",
              "      <td>62.0</td>\n",
              "      <td>29.883333</td>\n",
              "      <td>2019-02-28</td>\n",
              "      <td>23</td>\n",
              "      <td>Thursday</td>\n",
              "      <td>February</td>\n",
              "    </tr>\n",
              "  </tbody>\n",
              "</table>\n",
              "</div>"
            ],
            "text/plain": [
              "   duration_sec              start_time  ... start_week  start_month\n",
              "0         52185 2019-02-28 17:32:10.145  ...   Thursday     February\n",
              "2         61854 2019-02-28 12:13:13.218  ...   Thursday     February\n",
              "3         36490 2019-02-28 17:54:26.010  ...   Thursday     February\n",
              "4          1585 2019-02-28 23:54:18.549  ...   Thursday     February\n",
              "5          1793 2019-02-28 23:49:58.632  ...   Thursday     February\n",
              "\n",
              "[5 rows x 22 columns]"
            ]
          },
          "metadata": {
            "tags": []
          },
          "execution_count": 20
        }
      ]
    },
    {
      "cell_type": "code",
      "metadata": {
        "colab": {
          "base_uri": "https://localhost:8080/",
          "height": 388
        },
        "id": "1_cK8fxdIbpQ",
        "outputId": "c1fb636c-e686-4d2e-eb1b-ea0e8e4e6a3a"
      },
      "source": [
        "base_color = sb.color_palette('colorblind')[0]\r\n",
        "plt.rcParams['figure.figsize'] = 8, 6\r\n",
        "\r\n",
        "sb.countplot(data=bike_ford, x='start_hour',color=base_color, order = bike_ford['start_hour'].value_counts().index);\r\n",
        "plt.xlabel('Trip Start Hour');\r\n",
        "plt.ylabel('Count');"
      ],
      "execution_count": 21,
      "outputs": [
        {
          "output_type": "display_data",
          "data": {
            "image/png": "[encoded data removed]",
            "text/plain": [
              "<Figure size 576x432 with 1 Axes>"
            ]
          },
          "metadata": {
            "tags": [],
            "needs_background": "light"
          }
        }
      ]
    },
    {
      "cell_type": "code",
      "metadata": {
        "colab": {
          "base_uri": "https://localhost:8080/",
          "height": 406
        },
        "id": "RX-W6DCUKVJe",
        "outputId": "d1f76b01-20ad-4521-9db9-35cd72f19ea5"
      },
      "source": [
        "\r\n",
        "sb.countplot(data=bike_ford,x='start_week',color=base_color);\r\n",
        "plt.xlabel('Trip Start Day')\r\n",
        "plt.ylabel('Count')"
      ],
      "execution_count": 22,
      "outputs": [
        {
          "output_type": "execute_result",
          "data": {
            "text/plain": [
              "Text(0, 0.5, 'Count')"
            ]
          },
          "metadata": {
            "tags": []
          },
          "execution_count": 22
        },
        {
          "output_type": "display_data",
          "data": {
            "image/png": "[encoded data removed]",
            "text/plain": [
              "<Figure size 576x432 with 1 Axes>"
            ]
          },
          "metadata": {
            "tags": [],
            "needs_background": "light"
          }
        }
      ]
    },
    {
      "cell_type": "markdown",
      "metadata": {
        "id": "vNVI-9NYQN9m"
      },
      "source": [
        "large amount of trips started in Thursday and Tuesday"
      ]
    },
    {
      "cell_type": "code",
      "metadata": {
        "colab": {
          "base_uri": "https://localhost:8080/",
          "height": 405
        },
        "id": "JBcf3_F8MZUs",
        "outputId": "6e965ffc-7e21-494d-a296-c085180ca2a9"
      },
      "source": [
        "sb.countplot(data=bike_ford,x='start_month',color=base_color);\r\n",
        "plt.xlabel('Trip Start month')\r\n",
        "plt.ylabel('Count')"
      ],
      "execution_count": 23,
      "outputs": [
        {
          "output_type": "execute_result",
          "data": {
            "text/plain": [
              "Text(0, 0.5, 'Count')"
            ]
          },
          "metadata": {
            "tags": []
          },
          "execution_count": 23
        },
        {
          "output_type": "display_data",
          "data": {
            "image/png": "[encoded data removed]",
            "text/plain": [
              "<Figure size 576x432 with 1 Axes>"
            ]
          },
          "metadata": {
            "tags": [],
            "needs_background": "light"
          }
        }
      ]
    },
    {
      "cell_type": "markdown",
      "metadata": {
        "id": "-tYcYRdR6VBA"
      },
      "source": [
        "**2- Bivariate**"
      ]
    },
    {
      "cell_type": "markdown",
      "metadata": {
        "id": "jhAlAgdg1ejR"
      },
      "source": [
        "**2.1 -Relation between member gender and bike share all trip attributes**"
      ]
    },
    {
      "cell_type": "code",
      "metadata": {
        "colab": {
          "base_uri": "https://localhost:8080/",
          "height": 166
        },
        "id": "s9QHKMIvNCVG",
        "outputId": "c3d2075f-f5b2-4c18-cce1-f696e3e474f9"
      },
      "source": [
        "# is bike share attribute depend on member gender\r\n",
        "ct_counts=bike_ford.groupby(['member_gender','bike_share_for_all_trip']).size()\r\n",
        "plt.rcParams['figure.figsize'] = 8, 6\r\n",
        "ct_counts=ct_counts.reset_index(name='count')\r\n",
        "ct_counts=ct_counts.pivot(index='member_gender',columns='bike_share_for_all_trip',values='count')\r\n",
        "ct_counts"
      ],
      "execution_count": 25,
      "outputs": [
        {
          "output_type": "execute_result",
          "data": {
            "text/html": [
              "<div>\n",
              "<style scoped>\n",
              "    .dataframe tbody tr th:only-of-type {\n",
              "        vertical-align: middle;\n",
              "    }\n",
              "\n",
              "    .dataframe tbody tr th {\n",
              "        vertical-align: top;\n",
              "    }\n",
              "\n",
              "    .dataframe thead th {\n",
              "        text-align: right;\n",
              "    }\n",
              "</style>\n",
              "<table border=\"1\" class=\"dataframe\">\n",
              "  <thead>\n",
              "    <tr style=\"text-align: right;\">\n",
              "      <th>bike_share_for_all_trip</th>\n",
              "      <th>No</th>\n",
              "      <th>Yes</th>\n",
              "    </tr>\n",
              "    <tr>\n",
              "      <th>member_gender</th>\n",
              "      <th></th>\n",
              "      <th></th>\n",
              "    </tr>\n",
              "  </thead>\n",
              "  <tbody>\n",
              "    <tr>\n",
              "      <th>Female</th>\n",
              "      <td>37197</td>\n",
              "      <td>3568</td>\n",
              "    </tr>\n",
              "    <tr>\n",
              "      <th>Male</th>\n",
              "      <td>117264</td>\n",
              "      <td>13076</td>\n",
              "    </tr>\n",
              "    <tr>\n",
              "      <th>Other</th>\n",
              "      <td>2996</td>\n",
              "      <td>648</td>\n",
              "    </tr>\n",
              "  </tbody>\n",
              "</table>\n",
              "</div>"
            ],
            "text/plain": [
              "bike_share_for_all_trip      No    Yes\n",
              "member_gender                         \n",
              "Female                    37197   3568\n",
              "Male                     117264  13076\n",
              "Other                      2996    648"
            ]
          },
          "metadata": {
            "tags": []
          },
          "execution_count": 25
        }
      ]
    },
    {
      "cell_type": "markdown",
      "metadata": {
        "id": "wzPW1UkT17pl"
      },
      "source": [
        "i choose heat map plot(clustered plot) because member gender is qualitative and bike share for all trip is qualitative.\r\n"
      ]
    },
    {
      "cell_type": "code",
      "metadata": {
        "colab": {
          "base_uri": "https://localhost:8080/",
          "height": 389
        },
        "id": "Yjwyqm9WUyD4",
        "outputId": "3f328fbb-f800-4611-9cb7-43579db44f0c"
      },
      "source": [
        "sb.heatmap(ct_counts,annot=True,fmt='d');"
      ],
      "execution_count": 26,
      "outputs": [
        {
          "output_type": "display_data",
          "data": {
            "image/png": "[encoded data removed]",
            "text/plain": [
              "<Figure size 576x432 with 2 Axes>"
            ]
          },
          "metadata": {
            "tags": [],
            "needs_background": "light"
          }
        }
      ]
    },
    {
      "cell_type": "markdown",
      "metadata": {
        "id": "Ea3SuG726mNy"
      },
      "source": [
        "**2.2- relation between member_age and bike share for all trip**"
      ]
    },
    {
      "cell_type": "code",
      "metadata": {
        "colab": {
          "base_uri": "https://localhost:8080/",
          "height": 389
        },
        "id": "_gZ9aAuUZ-aT",
        "outputId": "88fa08e1-4fe5-4a7b-a61d-e1f1f4d1be57"
      },
      "source": [
        "#relation between age and bike share\r\n",
        "base_color=sb.color_palette()[0]\r\n",
        "sb.boxplot(data=bike_ford,x='bike_share_for_all_trip',y='member_age',color=base_color);"
      ],
      "execution_count": 27,
      "outputs": [
        {
          "output_type": "display_data",
          "data": {
            "image/png": "[encoded data removed]",
            "text/plain": [
              "<Figure size 576x432 with 1 Axes>"
            ]
          },
          "metadata": {
            "tags": [],
            "needs_background": "light"
          }
        }
      ]
    },
    {
      "cell_type": "markdown",
      "metadata": {
        "id": "fUTWO3dHb4PT"
      },
      "source": [
        "members who share have less median age(less than 30), thats mean youth member share more than other "
      ]
    },
    {
      "cell_type": "markdown",
      "metadata": {
        "id": "ug8nECJn1MCR"
      },
      "source": [
        "**2.3- Relation between user type and duration**\r\n",
        "\r\n",
        "\r\n",
        "\r\n"
      ]
    },
    {
      "cell_type": "code",
      "metadata": {
        "colab": {
          "base_uri": "https://localhost:8080/",
          "height": 388
        },
        "id": "8-MTnmfUafQ5",
        "outputId": "092f997f-7ce3-42b1-8d76-7db5de72c009"
      },
      "source": [
        "# trip duration vs user_type\r\n",
        "\r\n",
        "sb.boxplot(data=bike_ford, x='user_type', y='duration_minute', color=base_color);\r\n",
        "plt.xlabel('User Type');\r\n",
        "plt.ylabel('Trip Duration in Minute');"
      ],
      "execution_count": 29,
      "outputs": [
        {
          "output_type": "display_data",
          "data": {
            "image/png": "[encoded data removed]",
            "text/plain": [
              "<Figure size 576x432 with 1 Axes>"
            ]
          },
          "metadata": {
            "tags": [],
            "needs_background": "light"
          }
        }
      ]
    },
    {
      "cell_type": "markdown",
      "metadata": {
        "id": "1aowyFVXd_ML"
      },
      "source": [
        "there are a lot of outliers that make visualize that relation hard , so i will remove any outlier using IRQ , then try to visualize it"
      ]
    },
    {
      "cell_type": "code",
      "metadata": {
        "id": "OvmNE_Qbd-S2"
      },
      "source": [
        "bike_ford['duration_minutes'].describe()"
      ],
      "execution_count": null,
      "outputs": []
    },
    {
      "cell_type": "code",
      "metadata": {
        "id": "QZLepy50eizg"
      },
      "source": [
        "Q1=1.016\r\n",
        "Q2=5.3833333\r\n",
        "Q3=8.5166667\r\n",
        "IRQ=Q3-Q1\r\n",
        "max=Q3+(1.5*IRQ)\r\n",
        "bike_ford_type=bike_ford.query('duration_minute <='+str(max))"
      ],
      "execution_count": 30,
      "outputs": []
    },
    {
      "cell_type": "markdown",
      "metadata": {
        "id": "T5IyTfeA0yjN"
      },
      "source": [
        "i choose box plot because user type is qualitative and duration is quantitative.\r\n"
      ]
    },
    {
      "cell_type": "code",
      "metadata": {
        "colab": {
          "base_uri": "https://localhost:8080/",
          "height": 388
        },
        "id": "omHJbyoCfe3-",
        "outputId": "e8223708-5479-47f5-d7c8-32d72894738a"
      },
      "source": [
        "\r\n",
        "sb.boxplot(data=bike_ford_type, x='user_type', y='duration_minute', color=base_color);\r\n",
        "plt.xlabel('User Type');\r\n",
        "plt.ylabel('Trip Duration in Minute');"
      ],
      "execution_count": 32,
      "outputs": [
        {
          "output_type": "display_data",
          "data": {
            "image/png": "[encoded data removed]",
            "text/plain": [
              "<Figure size 576x432 with 1 Axes>"
            ]
          },
          "metadata": {
            "tags": [],
            "needs_background": "light"
          }
        }
      ]
    },
    {
      "cell_type": "markdown",
      "metadata": {
        "id": "70zh7OrhflNi"
      },
      "source": [
        "now we see the median of subscriber user are 7.5 minute/trip, and for customer above 10 , customers spend more minutes in trip than subscribers"
      ]
    },
    {
      "cell_type": "markdown",
      "metadata": {
        "id": "lTEvHJqD6-en"
      },
      "source": [
        "**2.4- relation between gender and duration**"
      ]
    },
    {
      "cell_type": "markdown",
      "metadata": {
        "id": "wM4QQdpk7KFo"
      },
      "source": [
        "i choose box plot because gender is qualtative,duration is quantitative "
      ]
    },
    {
      "cell_type": "code",
      "metadata": {
        "colab": {
          "base_uri": "https://localhost:8080/",
          "height": 388
        },
        "id": "F5XsIFAlgHXy",
        "outputId": "6afcf1f9-6837-447e-a693-73160e927e60"
      },
      "source": [
        "#gender vs duration\r\n",
        "\r\n",
        "sb.boxplot(data=bike_ford_type, x='member_gender', y='duration_minute', color=base_color);\r\n",
        "plt.xlabel('Member Gender');\r\n",
        "plt.ylabel('Trip Duration in Minute');"
      ],
      "execution_count": 35,
      "outputs": [
        {
          "output_type": "display_data",
          "data": {
            "image/png": "[encoded data removed]",
            "text/plain": [
              "<Figure size 576x432 with 1 Axes>"
            ]
          },
          "metadata": {
            "tags": [],
            "needs_background": "light"
          }
        }
      ]
    },
    {
      "cell_type": "markdown",
      "metadata": {
        "id": "KUKm39yO74_5"
      },
      "source": [
        "Female have median above Male in Trip/minute ratio , Female make large number of minutes in trips than male"
      ]
    },
    {
      "cell_type": "markdown",
      "metadata": {
        "id": "bYyb0l8c8N1z"
      },
      "source": [
        "**2.5- relation between start hour attribute and user type**"
      ]
    },
    {
      "cell_type": "markdown",
      "metadata": {
        "id": "e7VMh_1_9wNw"
      },
      "source": [
        "i choose Bar plot"
      ]
    },
    {
      "cell_type": "code",
      "metadata": {
        "colab": {
          "base_uri": "https://localhost:8080/",
          "height": 405
        },
        "id": "3POVGNzs985A",
        "outputId": "07e4aa1f-d82d-4158-ce0c-c9e6e945fcbd"
      },
      "source": [
        "sb.countplot(data=bike_ford,x='start_hour',hue='user_type');\r\n",
        "plt.xlabel('Trip Start hour')\r\n",
        "plt.ylabel('Count')"
      ],
      "execution_count": 40,
      "outputs": [
        {
          "output_type": "execute_result",
          "data": {
            "text/plain": [
              "Text(0, 0.5, 'Count')"
            ]
          },
          "metadata": {
            "tags": []
          },
          "execution_count": 40
        },
        {
          "output_type": "display_data",
          "data": {
            "image/png": "[encoded data removed]",
            "text/plain": [
              "<Figure size 576x432 with 1 Axes>"
            ]
          },
          "metadata": {
            "tags": [],
            "needs_background": "light"
          }
        }
      ]
    },
    {
      "cell_type": "markdown",
      "metadata": {
        "id": "QXO-kqEo-xVy"
      },
      "source": [
        "as we see number of subscriber large than customer (another relation represent that), also in that relation we see (time from 05 to 01) number of trips less than in the middle of the day , we see subscriber make large number of trips (between 17 and 8) "
      ]
    },
    {
      "cell_type": "markdown",
      "metadata": {
        "id": "EM1DxvPF_0PD"
      },
      "source": [
        "**2.6- relation between start _day and user type**"
      ]
    },
    {
      "cell_type": "markdown",
      "metadata": {
        "id": "hR31AYttEpQJ"
      },
      "source": [
        "i choose bar plot because two attributes are qualtative"
      ]
    },
    {
      "cell_type": "code",
      "metadata": {
        "colab": {
          "base_uri": "https://localhost:8080/",
          "height": 405
        },
        "id": "ve96_WMgBGJ4",
        "outputId": "0e80534a-eef8-4406-a63a-0b6017448136"
      },
      "source": [
        "sb.countplot(data=bike_ford,x='start_week',hue='user_type');\r\n",
        "plt.xlabel('Trip Start Day')\r\n",
        "plt.ylabel('Count')"
      ],
      "execution_count": 42,
      "outputs": [
        {
          "output_type": "execute_result",
          "data": {
            "text/plain": [
              "Text(0, 0.5, 'Count')"
            ]
          },
          "metadata": {
            "tags": []
          },
          "execution_count": 42
        },
        {
          "output_type": "display_data",
          "data": {
            "image/png": "[encoded data removed]",
            "text/plain": [
              "<Figure size 576x432 with 1 Axes>"
            ]
          },
          "metadata": {
            "tags": [],
            "needs_background": "light"
          }
        }
      ]
    },
    {
      "cell_type": "markdown",
      "metadata": {
        "id": "70mD2Sp6FZMZ"
      },
      "source": [
        ""
      ]
    },
    {
      "cell_type": "markdown",
      "metadata": {
        "id": "_CrJAmlGACt_"
      },
      "source": [
        "**2.7- relation between start hour and Gender**"
      ]
    },
    {
      "cell_type": "markdown",
      "metadata": {
        "id": "0g40ZvkxFdTq"
      },
      "source": [
        ""
      ]
    },
    {
      "cell_type": "code",
      "metadata": {
        "colab": {
          "base_uri": "https://localhost:8080/",
          "height": 405
        },
        "id": "IAe_feFzBHL6",
        "outputId": "c9943b0d-391e-4557-82b8-ade3f5267d36"
      },
      "source": [
        "sb.countplot(data=bike_ford,x='start_hour',hue='member_gender');\r\n",
        "plt.xlabel('Trip Start hour')\r\n",
        "plt.ylabel('Count')"
      ],
      "execution_count": 43,
      "outputs": [
        {
          "output_type": "execute_result",
          "data": {
            "text/plain": [
              "Text(0, 0.5, 'Count')"
            ]
          },
          "metadata": {
            "tags": []
          },
          "execution_count": 43
        },
        {
          "output_type": "display_data",
          "data": {
            "image/png": "[encoded data removed]",
            "text/plain": [
              "<Figure size 576x432 with 1 Axes>"
            ]
          },
          "metadata": {
            "tags": [],
            "needs_background": "light"
          }
        }
      ]
    },
    {
      "cell_type": "markdown",
      "metadata": {
        "id": "CGoHYKeuFgE_"
      },
      "source": [
        ""
      ]
    },
    {
      "cell_type": "markdown",
      "metadata": {
        "id": "86PMxKOP_9Vm"
      },
      "source": [
        "**2.8- relation between start _day and Gender**"
      ]
    },
    {
      "cell_type": "code",
      "metadata": {
        "colab": {
          "base_uri": "https://localhost:8080/",
          "height": 405
        },
        "id": "b7Zc1_BjBICj",
        "outputId": "ce26b259-a14c-47cd-e553-c8b741e19b49"
      },
      "source": [
        "sb.countplot(data=bike_ford,x='start_week',hue='member_gender');\r\n",
        "plt.xlabel('Trip Start Day')\r\n",
        "plt.ylabel('Count')"
      ],
      "execution_count": 46,
      "outputs": [
        {
          "output_type": "execute_result",
          "data": {
            "text/plain": [
              "Text(0, 0.5, 'Count')"
            ]
          },
          "metadata": {
            "tags": []
          },
          "execution_count": 46
        },
        {
          "output_type": "display_data",
          "data": {
            "image/png": "[encoded data removed]",
            "text/plain": [
              "<Figure size 576x432 with 1 Axes>"
            ]
          },
          "metadata": {
            "tags": [],
            "needs_background": "light"
          }
        }
      ]
    },
    {
      "cell_type": "markdown",
      "metadata": {
        "id": "1ZAGGGDtAO5B"
      },
      "source": [
        "**2.9-relation between member age and user type**"
      ]
    },
    {
      "cell_type": "code",
      "metadata": {
        "colab": {
          "base_uri": "https://localhost:8080/",
          "height": 405
        },
        "id": "3W0DSv_tBIu3",
        "outputId": "f3d3c761-23df-4cd1-d656-3c4d0aaab8cd"
      },
      "source": [
        "sb.boxplot(data=bike_ford,x='user_type',y='member_age',color=base_color);\r\n",
        "plt.xlabel('User Type')\r\n",
        "plt.ylabel('Member Age')"
      ],
      "execution_count": 49,
      "outputs": [
        {
          "output_type": "execute_result",
          "data": {
            "text/plain": [
              "Text(0, 0.5, 'Member Age')"
            ]
          },
          "metadata": {
            "tags": []
          },
          "execution_count": 49
        },
        {
          "output_type": "display_data",
          "data": {
            "image/png": "[encoded data removed]",
            "text/plain": [
              "<Figure size 576x432 with 1 Axes>"
            ]
          },
          "metadata": {
            "tags": [],
            "needs_background": "light"
          }
        }
      ]
    },
    {
      "cell_type": "markdown",
      "metadata": {
        "id": "Uc-ErrE0HBC_"
      },
      "source": [
        "median of ages in two clasess subscriber and customer almost same , and two classes have the same age stage members, but the max age in subscriber class larger than customer"
      ]
    },
    {
      "cell_type": "markdown",
      "metadata": {
        "id": "IFusAFr3Ar50"
      },
      "source": [
        "**2.10- relation between start day and trip duration**"
      ]
    },
    {
      "cell_type": "code",
      "metadata": {
        "colab": {
          "base_uri": "https://localhost:8080/",
          "height": 388
        },
        "id": "CfsHlca9BKTG",
        "outputId": "adcc1c5e-bfe5-4e6c-92ba-4be45f3f9919"
      },
      "source": [
        "sb.barplot(data=bike_ford, x='start_week', y='duration_minute', color=base_color);\r\n",
        "plt.xlabel('Day of Week');\r\n",
        "plt.ylabel('Avg. Trip Duration in Minute');\r\n"
      ],
      "execution_count": 51,
      "outputs": [
        {
          "output_type": "display_data",
          "data": {
            "image/png": "[encoded data removed]",
            "text/plain": [
              "<Figure size 576x432 with 1 Axes>"
            ]
          },
          "metadata": {
            "tags": [],
            "needs_background": "light"
          }
        }
      ]
    },
    {
      "cell_type": "markdown",
      "metadata": {
        "id": "Ch2s0c2_JV_W"
      },
      "source": [
        "weekend have greatest number of minutes per trip , so member prefered making trips in weekend."
      ]
    },
    {
      "cell_type": "markdown",
      "metadata": {
        "id": "ynQT2uWWArz4"
      },
      "source": [
        "**2.11- relation between start hour and Trip Duration**"
      ]
    },
    {
      "cell_type": "code",
      "metadata": {
        "colab": {
          "base_uri": "https://localhost:8080/",
          "height": 388
        },
        "id": "wdaXWlckBLGG",
        "outputId": "0e68e987-bca0-4a64-82e3-986c6066c741"
      },
      "source": [
        "sb.barplot(data=bike_ford, x='start_hour', y='duration_minute', color=base_color);\r\n",
        "plt.xlabel('hour');\r\n",
        "plt.ylabel('Avg. Trip Duration in Minute');\r\n"
      ],
      "execution_count": 52,
      "outputs": [
        {
          "output_type": "display_data",
          "data": {
            "image/png": "[encoded data removed]",
            "text/plain": [
              "<Figure size 576x432 with 1 Axes>"
            ]
          },
          "metadata": {
            "tags": [],
            "needs_background": "light"
          }
        }
      ]
    },
    {
      "cell_type": "markdown",
      "metadata": {
        "id": "6qllVWb0J9FM"
      },
      "source": [
        "members whoes starting at 3 and 2 PM make large number of minutes per trip"
      ]
    },
    {
      "cell_type": "markdown",
      "metadata": {
        "id": "fXn-Fy2eArwQ"
      },
      "source": [
        "**3- Multivariate Visulaization:**"
      ]
    },
    {
      "cell_type": "markdown",
      "metadata": {
        "id": "l956YZ8gArsU"
      },
      "source": [
        "**3.1- Relation between average duration per trip and start day , with user type**"
      ]
    },
    {
      "cell_type": "code",
      "metadata": {
        "colab": {
          "base_uri": "https://localhost:8080/",
          "height": 388
        },
        "id": "UH00tDbKCGgm",
        "outputId": "9e580b46-4101-47c0-c8bb-38a9d60ce5c1"
      },
      "source": [
        "sb.pointplot(data=bike_ford, x='start_week', y='duration_minute', hue='user_type');\r\n",
        "plt.xlabel('Start Day');\r\n",
        "plt.ylabel('Avg.Duration in Minute per Trip');"
      ],
      "execution_count": 59,
      "outputs": [
        {
          "output_type": "display_data",
          "data": {
            "image/png": "[encoded data removed]",
            "text/plain": [
              "<Figure size 576x432 with 1 Axes>"
            ]
          },
          "metadata": {
            "tags": [],
            "needs_background": "light"
          }
        }
      ]
    },
    {
      "cell_type": "markdown",
      "metadata": {
        "id": "YeHRVsIlPnq5"
      },
      "source": [
        "Weekend effect , as we see in sunday and saturday the greatest number of minutes per trip , and customer members have largest minutes than subscriber in  weekend and all the week  "
      ]
    },
    {
      "cell_type": "markdown",
      "metadata": {
        "id": "4s0OUN0pAroo"
      },
      "source": [
        "**3.2- relation betweem avg Duration , Age and user type**"
      ]
    },
    {
      "cell_type": "code",
      "metadata": {
        "colab": {
          "base_uri": "https://localhost:8080/",
          "height": 422
        },
        "id": "uJOG3JXtCwuZ",
        "outputId": "f8d28b64-8366-49a1-90f1-927875d918c6"
      },
      "source": [
        "user_type = sb.FacetGrid(data = bike_ford, col = 'user_type', col_wrap = 2, size = 5,xlim = [10, 100], ylim = [-1000, 9000])\r\n",
        "user_type.map(plt.scatter, 'member_age', 'duration_minute', alpha= 1)\r\n",
        "user_type.set_xlabels('Age')\r\n",
        "user_type.set_ylabels('Duration_minute')\r\n",
        "plt.show()"
      ],
      "execution_count": 56,
      "outputs": [
        {
          "output_type": "stream",
          "text": [
            "/usr/local/lib/python3.6/dist-packages/seaborn/axisgrid.py:316: UserWarning: The `size` parameter has been renamed to `height`; please update your code.\n",
            "  warnings.warn(msg, UserWarning)\n"
          ],
          "name": "stderr"
        },
        {
          "output_type": "display_data",
          "data": {
            "image/png": "[encoded data removed]",
            "text/plain": [
              "<Figure size 720x360 with 2 Axes>"
            ]
          },
          "metadata": {
            "tags": [],
            "needs_background": "light"
          }
        }
      ]
    },
    {
      "cell_type": "markdown",
      "metadata": {
        "id": "cX22cfAfDJBa"
      },
      "source": [
        "as we see customers who's age between 20 and 30 have greater avg duration per trip than subscriber"
      ]
    },
    {
      "cell_type": "markdown",
      "metadata": {
        "id": "x_J8GNJzDKlG"
      },
      "source": [
        "E- Conclusion and important Relations:"
      ]
    },
    {
      "cell_type": "markdown",
      "metadata": {
        "id": "5G3s_WLd_9R-"
      },
      "source": [
        "####There are alot of relation that help us to understand a lot of things , and make us answer some question like which gender have largest number of trips and minuters per trip?\r\n",
        "Here i will show some conclusion and helpful relations with some comments:\r\n",
        "##1- Gender and Avg. duration in trip:\r\n",
        "Female make largest number of minuter per trip , and that doesn't mean number of females larger than male or other. \r\n",
        "##2- Start day vs. user type, and duration vs user type:\r\n",
        "subscriber have largest number in trip start relation in all days , but when we take a look on duration and user type , we can see customer make largest number of minuter per trip , thats mean subscriber start a lot of trips but never long trips they prefered shortest one.\r\n",
        "##3-which hour that member start trip make him have largest duration per trip?\r\n",
        "members whoes starting at 3 and 2 PM make large number of minutes per trip\r\n",
        "###4-which day that member start on it trip and also make large duration in trip ?  \r\n",
        "Weekend effect , as we see in sunday and saturday the greatest number of minutes per trip , and customer members have largest minutes than subscriber in  weekend and all the week  \r\n",
        "###5- which age stage that share all the trip?\r\n",
        "we see the stage from 27 to 40 have highest sharing ratio \r\n",
        "###6- which day members prefered to start their trips ?\r\n",
        "Thursday and Tuesday ,but that two days have lowest number of minutes per trip, that mean members start in that day short trips\r\n"
      ]
    },
    {
      "cell_type": "code",
      "metadata": {
        "id": "eqDB8bb7IaTj"
      },
      "source": [
        ""
      ],
      "execution_count": null,
      "outputs": []
    }
  ]
}