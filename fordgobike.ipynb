{
 "cells": [
  {
   "cell_type": "markdown",
   "metadata": {
    "slideshow": {
     "slide_type": "slide"
    }
   },
   "source": [
    "# Ford GOBike System"
   ]
  },
  {
   "cell_type": "markdown",
   "metadata": {
    "id": "3yTvUTfK2h7Q",
    "slideshow": {
     "slide_type": "slide"
    }
   },
   "source": [
    "## I choose ford GoBike system data-set , which includes information about individual rides made in a bike-sharing system covering the greater San Francisco Bay area. "
   ]
  },
  {
   "cell_type": "code",
   "execution_count": 1,
   "metadata": {
    "id": "VTJP37lSMc9v",
    "slideshow": {
     "slide_type": "slide"
    }
   },
   "outputs": [],
   "source": [
    "import numpy as np\n",
    "import pandas as pd\n",
    "import matplotlib.pyplot as plt\n",
    "import seaborn as sb\n",
    "import os\n",
    "import glob\n",
    "\n",
    "%matplotlib inline"
   ]
  },
  {
   "cell_type": "markdown",
   "metadata": {
    "id": "C8VBdhC-3QX_",
    "slideshow": {
     "slide_type": "slide"
    }
   },
   "source": [
    "**A-Assessing Data**"
   ]
  },
  {
   "cell_type": "code",
   "execution_count": 3,
   "metadata": {
    "id": "otQJhL950AqZ",
    "slideshow": {
     "slide_type": "slide"
    }
   },
   "outputs": [],
   "source": [
    "bike_ford_df=pd.read_csv('201902-fordgobike-tripdata.csv')\n",
    "#df=pd.read_csv('/content/drive/MyDrive/fordbike.csv', sep=', ', delimiter=None,  header='infer', names=None, \n",
    "#                index_col=None, usecols=None, squeeze=False, engine=None,)"
   ]
  },
  {
   "cell_type": "code",
   "execution_count": 4,
   "metadata": {
    "colab": {
     "base_uri": "https://localhost:8080/",
     "height": 565
    },
    "id": "ykfvquOe0Osi",
    "outputId": "6a6dac1d-949c-4e22-8793-b7853d00adf1",
    "slideshow": {
     "slide_type": "slide"
    }
   },
   "outputs": [
    {
     "data": {
      "text/html": [
       "<div>\n",
       "<style scoped>\n",
       "    .dataframe tbody tr th:only-of-type {\n",
       "        vertical-align: middle;\n",
       "    }\n",
       "\n",
       "    .dataframe tbody tr th {\n",
       "        vertical-align: top;\n",
       "    }\n",
       "\n",
       "    .dataframe thead th {\n",
       "        text-align: right;\n",
       "    }\n",
       "</style>\n",
       "<table border=\"1\" class=\"dataframe\">\n",
       "  <thead>\n",
       "    <tr style=\"text-align: right;\">\n",
       "      <th></th>\n",
       "      <th>duration_sec</th>\n",
       "      <th>start_time</th>\n",
       "      <th>end_time</th>\n",
       "      <th>start_station_id</th>\n",
       "      <th>start_station_name</th>\n",
       "      <th>start_station_latitude</th>\n",
       "      <th>start_station_longitude</th>\n",
       "      <th>end_station_id</th>\n",
       "      <th>end_station_name</th>\n",
       "      <th>end_station_latitude</th>\n",
       "      <th>end_station_longitude</th>\n",
       "      <th>bike_id</th>\n",
       "      <th>user_type</th>\n",
       "      <th>member_birth_year</th>\n",
       "      <th>member_gender</th>\n",
       "      <th>bike_share_for_all_trip</th>\n",
       "    </tr>\n",
       "  </thead>\n",
       "  <tbody>\n",
       "    <tr>\n",
       "      <th>0</th>\n",
       "      <td>52185</td>\n",
       "      <td>2019-02-28 17:32:10.1450</td>\n",
       "      <td>2019-03-01 08:01:55.9750</td>\n",
       "      <td>21.0</td>\n",
       "      <td>Montgomery St BART Station (Market St at 2nd St)</td>\n",
       "      <td>37.789625</td>\n",
       "      <td>-122.400811</td>\n",
       "      <td>13.0</td>\n",
       "      <td>Commercial St at Montgomery St</td>\n",
       "      <td>37.794231</td>\n",
       "      <td>-122.402923</td>\n",
       "      <td>4902</td>\n",
       "      <td>Customer</td>\n",
       "      <td>1984.0</td>\n",
       "      <td>Male</td>\n",
       "      <td>No</td>\n",
       "    </tr>\n",
       "    <tr>\n",
       "      <th>1</th>\n",
       "      <td>42521</td>\n",
       "      <td>2019-02-28 18:53:21.7890</td>\n",
       "      <td>2019-03-01 06:42:03.0560</td>\n",
       "      <td>23.0</td>\n",
       "      <td>The Embarcadero at Steuart St</td>\n",
       "      <td>37.791464</td>\n",
       "      <td>-122.391034</td>\n",
       "      <td>81.0</td>\n",
       "      <td>Berry St at 4th St</td>\n",
       "      <td>37.775880</td>\n",
       "      <td>-122.393170</td>\n",
       "      <td>2535</td>\n",
       "      <td>Customer</td>\n",
       "      <td>NaN</td>\n",
       "      <td>NaN</td>\n",
       "      <td>No</td>\n",
       "    </tr>\n",
       "    <tr>\n",
       "      <th>2</th>\n",
       "      <td>61854</td>\n",
       "      <td>2019-02-28 12:13:13.2180</td>\n",
       "      <td>2019-03-01 05:24:08.1460</td>\n",
       "      <td>86.0</td>\n",
       "      <td>Market St at Dolores St</td>\n",
       "      <td>37.769305</td>\n",
       "      <td>-122.426826</td>\n",
       "      <td>3.0</td>\n",
       "      <td>Powell St BART Station (Market St at 4th St)</td>\n",
       "      <td>37.786375</td>\n",
       "      <td>-122.404904</td>\n",
       "      <td>5905</td>\n",
       "      <td>Customer</td>\n",
       "      <td>1972.0</td>\n",
       "      <td>Male</td>\n",
       "      <td>No</td>\n",
       "    </tr>\n",
       "    <tr>\n",
       "      <th>3</th>\n",
       "      <td>36490</td>\n",
       "      <td>2019-02-28 17:54:26.0100</td>\n",
       "      <td>2019-03-01 04:02:36.8420</td>\n",
       "      <td>375.0</td>\n",
       "      <td>Grove St at Masonic Ave</td>\n",
       "      <td>37.774836</td>\n",
       "      <td>-122.446546</td>\n",
       "      <td>70.0</td>\n",
       "      <td>Central Ave at Fell St</td>\n",
       "      <td>37.773311</td>\n",
       "      <td>-122.444293</td>\n",
       "      <td>6638</td>\n",
       "      <td>Subscriber</td>\n",
       "      <td>1989.0</td>\n",
       "      <td>Other</td>\n",
       "      <td>No</td>\n",
       "    </tr>\n",
       "    <tr>\n",
       "      <th>4</th>\n",
       "      <td>1585</td>\n",
       "      <td>2019-02-28 23:54:18.5490</td>\n",
       "      <td>2019-03-01 00:20:44.0740</td>\n",
       "      <td>7.0</td>\n",
       "      <td>Frank H Ogawa Plaza</td>\n",
       "      <td>37.804562</td>\n",
       "      <td>-122.271738</td>\n",
       "      <td>222.0</td>\n",
       "      <td>10th Ave at E 15th St</td>\n",
       "      <td>37.792714</td>\n",
       "      <td>-122.248780</td>\n",
       "      <td>4898</td>\n",
       "      <td>Subscriber</td>\n",
       "      <td>1974.0</td>\n",
       "      <td>Male</td>\n",
       "      <td>Yes</td>\n",
       "    </tr>\n",
       "    <tr>\n",
       "      <th>5</th>\n",
       "      <td>1793</td>\n",
       "      <td>2019-02-28 23:49:58.6320</td>\n",
       "      <td>2019-03-01 00:19:51.7600</td>\n",
       "      <td>93.0</td>\n",
       "      <td>4th St at Mission Bay Blvd S</td>\n",
       "      <td>37.770407</td>\n",
       "      <td>-122.391198</td>\n",
       "      <td>323.0</td>\n",
       "      <td>Broadway at Kearny</td>\n",
       "      <td>37.798014</td>\n",
       "      <td>-122.405950</td>\n",
       "      <td>5200</td>\n",
       "      <td>Subscriber</td>\n",
       "      <td>1959.0</td>\n",
       "      <td>Male</td>\n",
       "      <td>No</td>\n",
       "    </tr>\n",
       "    <tr>\n",
       "      <th>6</th>\n",
       "      <td>1147</td>\n",
       "      <td>2019-02-28 23:55:35.1040</td>\n",
       "      <td>2019-03-01 00:14:42.5880</td>\n",
       "      <td>300.0</td>\n",
       "      <td>Palm St at Willow St</td>\n",
       "      <td>37.317298</td>\n",
       "      <td>-121.884995</td>\n",
       "      <td>312.0</td>\n",
       "      <td>San Jose Diridon Station</td>\n",
       "      <td>37.329732</td>\n",
       "      <td>-121.901782</td>\n",
       "      <td>3803</td>\n",
       "      <td>Subscriber</td>\n",
       "      <td>1983.0</td>\n",
       "      <td>Female</td>\n",
       "      <td>No</td>\n",
       "    </tr>\n",
       "    <tr>\n",
       "      <th>7</th>\n",
       "      <td>1615</td>\n",
       "      <td>2019-02-28 23:41:06.7660</td>\n",
       "      <td>2019-03-01 00:08:02.7560</td>\n",
       "      <td>10.0</td>\n",
       "      <td>Washington St at Kearny St</td>\n",
       "      <td>37.795393</td>\n",
       "      <td>-122.404770</td>\n",
       "      <td>127.0</td>\n",
       "      <td>Valencia St at 21st St</td>\n",
       "      <td>37.756708</td>\n",
       "      <td>-122.421025</td>\n",
       "      <td>6329</td>\n",
       "      <td>Subscriber</td>\n",
       "      <td>1989.0</td>\n",
       "      <td>Male</td>\n",
       "      <td>No</td>\n",
       "    </tr>\n",
       "    <tr>\n",
       "      <th>8</th>\n",
       "      <td>1570</td>\n",
       "      <td>2019-02-28 23:41:48.7900</td>\n",
       "      <td>2019-03-01 00:07:59.7150</td>\n",
       "      <td>10.0</td>\n",
       "      <td>Washington St at Kearny St</td>\n",
       "      <td>37.795393</td>\n",
       "      <td>-122.404770</td>\n",
       "      <td>127.0</td>\n",
       "      <td>Valencia St at 21st St</td>\n",
       "      <td>37.756708</td>\n",
       "      <td>-122.421025</td>\n",
       "      <td>6548</td>\n",
       "      <td>Subscriber</td>\n",
       "      <td>1988.0</td>\n",
       "      <td>Other</td>\n",
       "      <td>No</td>\n",
       "    </tr>\n",
       "    <tr>\n",
       "      <th>9</th>\n",
       "      <td>1049</td>\n",
       "      <td>2019-02-28 23:49:47.6990</td>\n",
       "      <td>2019-03-01 00:07:17.0250</td>\n",
       "      <td>19.0</td>\n",
       "      <td>Post St at Kearny St</td>\n",
       "      <td>37.788975</td>\n",
       "      <td>-122.403452</td>\n",
       "      <td>121.0</td>\n",
       "      <td>Mission Playground</td>\n",
       "      <td>37.759210</td>\n",
       "      <td>-122.421339</td>\n",
       "      <td>6488</td>\n",
       "      <td>Subscriber</td>\n",
       "      <td>1992.0</td>\n",
       "      <td>Male</td>\n",
       "      <td>No</td>\n",
       "    </tr>\n",
       "  </tbody>\n",
       "</table>\n",
       "</div>"
      ],
      "text/plain": [
       "   duration_sec                start_time                  end_time  \\\n",
       "0         52185  2019-02-28 17:32:10.1450  2019-03-01 08:01:55.9750   \n",
       "1         42521  2019-02-28 18:53:21.7890  2019-03-01 06:42:03.0560   \n",
       "2         61854  2019-02-28 12:13:13.2180  2019-03-01 05:24:08.1460   \n",
       "3         36490  2019-02-28 17:54:26.0100  2019-03-01 04:02:36.8420   \n",
       "4          1585  2019-02-28 23:54:18.5490  2019-03-01 00:20:44.0740   \n",
       "5          1793  2019-02-28 23:49:58.6320  2019-03-01 00:19:51.7600   \n",
       "6          1147  2019-02-28 23:55:35.1040  2019-03-01 00:14:42.5880   \n",
       "7          1615  2019-02-28 23:41:06.7660  2019-03-01 00:08:02.7560   \n",
       "8          1570  2019-02-28 23:41:48.7900  2019-03-01 00:07:59.7150   \n",
       "9          1049  2019-02-28 23:49:47.6990  2019-03-01 00:07:17.0250   \n",
       "\n",
       "   start_station_id                                start_station_name  \\\n",
       "0              21.0  Montgomery St BART Station (Market St at 2nd St)   \n",
       "1              23.0                     The Embarcadero at Steuart St   \n",
       "2              86.0                           Market St at Dolores St   \n",
       "3             375.0                           Grove St at Masonic Ave   \n",
       "4               7.0                               Frank H Ogawa Plaza   \n",
       "5              93.0                      4th St at Mission Bay Blvd S   \n",
       "6             300.0                              Palm St at Willow St   \n",
       "7              10.0                        Washington St at Kearny St   \n",
       "8              10.0                        Washington St at Kearny St   \n",
       "9              19.0                              Post St at Kearny St   \n",
       "\n",
       "   start_station_latitude  start_station_longitude  end_station_id  \\\n",
       "0               37.789625              -122.400811            13.0   \n",
       "1               37.791464              -122.391034            81.0   \n",
       "2               37.769305              -122.426826             3.0   \n",
       "3               37.774836              -122.446546            70.0   \n",
       "4               37.804562              -122.271738           222.0   \n",
       "5               37.770407              -122.391198           323.0   \n",
       "6               37.317298              -121.884995           312.0   \n",
       "7               37.795393              -122.404770           127.0   \n",
       "8               37.795393              -122.404770           127.0   \n",
       "9               37.788975              -122.403452           121.0   \n",
       "\n",
       "                               end_station_name  end_station_latitude  \\\n",
       "0                Commercial St at Montgomery St             37.794231   \n",
       "1                            Berry St at 4th St             37.775880   \n",
       "2  Powell St BART Station (Market St at 4th St)             37.786375   \n",
       "3                        Central Ave at Fell St             37.773311   \n",
       "4                         10th Ave at E 15th St             37.792714   \n",
       "5                            Broadway at Kearny             37.798014   \n",
       "6                      San Jose Diridon Station             37.329732   \n",
       "7                        Valencia St at 21st St             37.756708   \n",
       "8                        Valencia St at 21st St             37.756708   \n",
       "9                            Mission Playground             37.759210   \n",
       "\n",
       "   end_station_longitude  bike_id   user_type  member_birth_year  \\\n",
       "0            -122.402923     4902    Customer             1984.0   \n",
       "1            -122.393170     2535    Customer                NaN   \n",
       "2            -122.404904     5905    Customer             1972.0   \n",
       "3            -122.444293     6638  Subscriber             1989.0   \n",
       "4            -122.248780     4898  Subscriber             1974.0   \n",
       "5            -122.405950     5200  Subscriber             1959.0   \n",
       "6            -121.901782     3803  Subscriber             1983.0   \n",
       "7            -122.421025     6329  Subscriber             1989.0   \n",
       "8            -122.421025     6548  Subscriber             1988.0   \n",
       "9            -122.421339     6488  Subscriber             1992.0   \n",
       "\n",
       "  member_gender bike_share_for_all_trip  \n",
       "0          Male                      No  \n",
       "1           NaN                      No  \n",
       "2          Male                      No  \n",
       "3         Other                      No  \n",
       "4          Male                     Yes  \n",
       "5          Male                      No  \n",
       "6        Female                      No  \n",
       "7          Male                      No  \n",
       "8         Other                      No  \n",
       "9          Male                      No  "
      ]
     },
     "execution_count": 4,
     "metadata": {},
     "output_type": "execute_result"
    }
   ],
   "source": [
    "bike_ford_df.head(10)"
   ]
  },
  {
   "cell_type": "markdown",
   "metadata": {
    "id": "IUaqZtvC3XSb",
    "slideshow": {
     "slide_type": "slide"
    }
   },
   "source": [
    "**B- Data exploeration**"
   ]
  },
  {
   "cell_type": "code",
   "execution_count": 5,
   "metadata": {
    "colab": {
     "base_uri": "https://localhost:8080/"
    },
    "id": "u4EAlbiz1Yo8",
    "outputId": "5b8e79c2-0e04-470d-f880-2e268e44a3ac",
    "slideshow": {
     "slide_type": "slide"
    }
   },
   "outputs": [
    {
     "name": "stdout",
     "output_type": "stream",
     "text": [
      "<class 'pandas.core.frame.DataFrame'>\n",
      "RangeIndex: 183412 entries, 0 to 183411\n",
      "Data columns (total 16 columns):\n",
      " #   Column                   Non-Null Count   Dtype  \n",
      "---  ------                   --------------   -----  \n",
      " 0   duration_sec             183412 non-null  int64  \n",
      " 1   start_time               183412 non-null  object \n",
      " 2   end_time                 183412 non-null  object \n",
      " 3   start_station_id         183215 non-null  float64\n",
      " 4   start_station_name       183215 non-null  object \n",
      " 5   start_station_latitude   183412 non-null  float64\n",
      " 6   start_station_longitude  183412 non-null  float64\n",
      " 7   end_station_id           183215 non-null  float64\n",
      " 8   end_station_name         183215 non-null  object \n",
      " 9   end_station_latitude     183412 non-null  float64\n",
      " 10  end_station_longitude    183412 non-null  float64\n",
      " 11  bike_id                  183412 non-null  int64  \n",
      " 12  user_type                183412 non-null  object \n",
      " 13  member_birth_year        175147 non-null  float64\n",
      " 14  member_gender            175147 non-null  object \n",
      " 15  bike_share_for_all_trip  183412 non-null  object \n",
      "dtypes: float64(7), int64(2), object(7)\n",
      "memory usage: 22.4+ MB\n"
     ]
    }
   ],
   "source": [
    "bike_ford_df.info()"
   ]
  },
  {
   "cell_type": "code",
   "execution_count": 6,
   "metadata": {
    "colab": {
     "base_uri": "https://localhost:8080/"
    },
    "id": "gZjN4fvn3lwa",
    "outputId": "20b9ee15-8f70-41b9-c9af-379a66019a76",
    "slideshow": {
     "slide_type": "slide"
    }
   },
   "outputs": [
    {
     "data": {
      "text/plain": [
       "duration_sec                  0\n",
       "start_time                    0\n",
       "end_time                      0\n",
       "start_station_id            197\n",
       "start_station_name          197\n",
       "start_station_latitude        0\n",
       "start_station_longitude       0\n",
       "end_station_id              197\n",
       "end_station_name            197\n",
       "end_station_latitude          0\n",
       "end_station_longitude         0\n",
       "bike_id                       0\n",
       "user_type                     0\n",
       "member_birth_year          8265\n",
       "member_gender              8265\n",
       "bike_share_for_all_trip       0\n",
       "dtype: int64"
      ]
     },
     "execution_count": 6,
     "metadata": {},
     "output_type": "execute_result"
    }
   ],
   "source": [
    "bike_ford_df.isnull().sum()"
   ]
  },
  {
   "cell_type": "code",
   "execution_count": 7,
   "metadata": {
    "id": "Yu8lcWcb7MhY",
    "slideshow": {
     "slide_type": "skip"
    }
   },
   "outputs": [],
   "source": [
    "most_missing_cols = set(bike_ford_df.columns[bike_ford_df.isnull().mean() > 0.50])"
   ]
  },
  {
   "cell_type": "code",
   "execution_count": 8,
   "metadata": {
    "colab": {
     "base_uri": "https://localhost:8080/"
    },
    "id": "m0Hh28zx3wRf",
    "outputId": "7d685b1f-0272-48cd-a7f4-f976a7850098",
    "slideshow": {
     "slide_type": "skip"
    }
   },
   "outputs": [
    {
     "data": {
      "text/plain": [
       "set()"
      ]
     },
     "execution_count": 8,
     "metadata": {},
     "output_type": "execute_result"
    }
   ],
   "source": [
    "most_missing_cols"
   ]
  },
  {
   "cell_type": "markdown",
   "metadata": {
    "id": "_wQO-EGn5UZG",
    "slideshow": {
     "slide_type": "slide"
    }
   },
   "source": [
    "**C- Data Cleaning**"
   ]
  },
  {
   "cell_type": "code",
   "execution_count": 9,
   "metadata": {
    "colab": {
     "base_uri": "https://localhost:8080/"
    },
    "id": "9e1oc4818qPH",
    "outputId": "f591370b-677b-4ea9-b55d-6ac88a5c3a44",
    "slideshow": {
     "slide_type": "slide"
    }
   },
   "outputs": [
    {
     "data": {
      "text/plain": [
       "duration_sec                  0\n",
       "start_time                    0\n",
       "end_time                      0\n",
       "start_station_id            197\n",
       "start_station_name          197\n",
       "start_station_latitude        0\n",
       "start_station_longitude       0\n",
       "end_station_id              197\n",
       "end_station_name            197\n",
       "end_station_latitude          0\n",
       "end_station_longitude         0\n",
       "bike_id                       0\n",
       "user_type                     0\n",
       "member_birth_year          8265\n",
       "member_gender                 0\n",
       "bike_share_for_all_trip       0\n",
       "dtype: int64"
      ]
     },
     "execution_count": 9,
     "metadata": {},
     "output_type": "execute_result"
    }
   ],
   "source": [
    "bike_ford_df['member_gender'].fillna('Other',inplace=True)\n",
    "bike_ford_df.isnull().sum()"
   ]
  },
  {
   "cell_type": "markdown",
   "metadata": {
    "id": "KuWYir8W3z5u",
    "slideshow": {
     "slide_type": "slide"
    }
   },
   "source": [
    "i fill all unknown gender to new class (unknown) "
   ]
  },
  {
   "cell_type": "code",
   "execution_count": 10,
   "metadata": {
    "colab": {
     "base_uri": "https://localhost:8080/"
    },
    "id": "6XXkdZVFGFIP",
    "outputId": "0664a94e-b2b3-47b6-9f45-ced6e79df817",
    "slideshow": {
     "slide_type": "slide"
    }
   },
   "outputs": [
    {
     "name": "stdout",
     "output_type": "stream",
     "text": [
      "<class 'pandas.core.frame.DataFrame'>\n",
      "RangeIndex: 183412 entries, 0 to 183411\n",
      "Data columns (total 16 columns):\n",
      " #   Column                   Non-Null Count   Dtype  \n",
      "---  ------                   --------------   -----  \n",
      " 0   duration_sec             183412 non-null  int64  \n",
      " 1   start_time               183412 non-null  object \n",
      " 2   end_time                 183412 non-null  object \n",
      " 3   start_station_id         183215 non-null  float64\n",
      " 4   start_station_name       183215 non-null  object \n",
      " 5   start_station_latitude   183412 non-null  float64\n",
      " 6   start_station_longitude  183412 non-null  float64\n",
      " 7   end_station_id           183215 non-null  float64\n",
      " 8   end_station_name         183215 non-null  object \n",
      " 9   end_station_latitude     183412 non-null  float64\n",
      " 10  end_station_longitude    183412 non-null  float64\n",
      " 11  bike_id                  183412 non-null  int64  \n",
      " 12  user_type                183412 non-null  object \n",
      " 13  member_birth_year        175147 non-null  float64\n",
      " 14  member_gender            183412 non-null  object \n",
      " 15  bike_share_for_all_trip  183412 non-null  object \n",
      "dtypes: float64(7), int64(2), object(7)\n",
      "memory usage: 22.4+ MB\n"
     ]
    }
   ],
   "source": [
    "bike_ford_df.info()"
   ]
  },
  {
   "cell_type": "code",
   "execution_count": 11,
   "metadata": {
    "id": "DB3ofNxZBBhl",
    "slideshow": {
     "slide_type": "skip"
    }
   },
   "outputs": [],
   "source": [
    "bike_ford_df['member_birth_year'].fillna(bike_ford_df['member_birth_year'].mode(),inplace=True)"
   ]
  },
  {
   "cell_type": "code",
   "execution_count": 12,
   "metadata": {
    "colab": {
     "base_uri": "https://localhost:8080/"
    },
    "id": "50b3EcKTBcyo",
    "outputId": "9b4d6dc4-2551-4167-bf6c-e620fbb83a0f",
    "slideshow": {
     "slide_type": "slide"
    }
   },
   "outputs": [
    {
     "data": {
      "text/plain": [
       "duration_sec               0\n",
       "start_time                 0\n",
       "end_time                   0\n",
       "start_station_id           0\n",
       "start_station_name         0\n",
       "start_station_latitude     0\n",
       "start_station_longitude    0\n",
       "end_station_id             0\n",
       "end_station_name           0\n",
       "end_station_latitude       0\n",
       "end_station_longitude      0\n",
       "bike_id                    0\n",
       "user_type                  0\n",
       "member_birth_year          0\n",
       "member_gender              0\n",
       "bike_share_for_all_trip    0\n",
       "dtype: int64"
      ]
     },
     "execution_count": 12,
     "metadata": {},
     "output_type": "execute_result"
    }
   ],
   "source": [
    "bike_ford_df.dropna(0,inplace=True)\n",
    "bike_ford_df.isnull().sum()"
   ]
  },
  {
   "cell_type": "markdown",
   "metadata": {
    "id": "uKKKhdGR4EtP",
    "slideshow": {
     "slide_type": "skip"
    }
   },
   "source": [
    "now we handle all missing data"
   ]
  },
  {
   "cell_type": "code",
   "execution_count": 13,
   "metadata": {
    "id": "QhTU9j5iBzVA",
    "slideshow": {
     "slide_type": "skip"
    }
   },
   "outputs": [],
   "source": [
    "#add new column member age\n",
    "bike_ford_df['member_age']=2021 - bike_ford_df['member_birth_year']"
   ]
  },
  {
   "cell_type": "markdown",
   "metadata": {
    "id": "nqYV-VHy4Xu_",
    "slideshow": {
     "slide_type": "skip"
    }
   },
   "source": [
    "make a new attribute member age"
   ]
  },
  {
   "cell_type": "code",
   "execution_count": 14,
   "metadata": {
    "id": "RYShmhl6CWI1",
    "slideshow": {
     "slide_type": "skip"
    }
   },
   "outputs": [],
   "source": [
    "bike_ford = bike_ford_df.copy()\n",
    "bike_ford['start_time'] = pd.to_datetime(bike_ford['start_time'])\n",
    "bike_ford['end_time'] = pd.to_datetime(bike_ford['end_time'])\n"
   ]
  },
  {
   "cell_type": "code",
   "execution_count": 15,
   "metadata": {
    "colab": {
     "base_uri": "https://localhost:8080/"
    },
    "id": "zDRzXzFiD7o2",
    "outputId": "d5c50450-aa65-401a-f956-04a17c745a39",
    "slideshow": {
     "slide_type": "slide"
    }
   },
   "outputs": [
    {
     "data": {
      "text/plain": [
       "Male      130500\n",
       "Female     40805\n",
       "Other       3647\n",
       "Name: member_gender, dtype: int64"
      ]
     },
     "execution_count": 15,
     "metadata": {},
     "output_type": "execute_result"
    }
   ],
   "source": [
    "bike_ford['member_gender'].value_counts()"
   ]
  },
  {
   "cell_type": "code",
   "execution_count": 16,
   "metadata": {
    "colab": {
     "base_uri": "https://localhost:8080/"
    },
    "id": "WDqiv_A-EjfT",
    "outputId": "e1de81d5-2ec1-426c-a176-e9fa5abc2ca4",
    "slideshow": {
     "slide_type": "skip"
    }
   },
   "outputs": [
    {
     "data": {
      "text/plain": [
       "Market St at 10th St                                         3649\n",
       "San Francisco Caltrain Station 2  (Townsend St at 4th St)    3408\n",
       "Berry St at 4th St                                           2952\n",
       "Montgomery St BART Station (Market St at 2nd St)             2711\n",
       "Powell St BART Station (Market St at 4th St)                 2620\n",
       "                                                             ... \n",
       "Willow St at Vine St                                            9\n",
       "Parker Ave at McAllister St                                     7\n",
       "21st Ave at International Blvd                                  4\n",
       "Palm St at Willow St                                            3\n",
       "16th St Depot                                                   2\n",
       "Name: start_station_name, Length: 329, dtype: int64"
      ]
     },
     "execution_count": 16,
     "metadata": {},
     "output_type": "execute_result"
    }
   ],
   "source": [
    "bike_ford['start_station_name'].value_counts()"
   ]
  },
  {
   "cell_type": "code",
   "execution_count": 17,
   "metadata": {
    "colab": {
     "base_uri": "https://localhost:8080/"
    },
    "id": "npLO_tY4EzBR",
    "outputId": "a5160fb1-4ba7-4dcc-bc2c-34266d429738",
    "slideshow": {
     "slide_type": "slide"
    }
   },
   "outputs": [
    {
     "data": {
      "text/plain": [
       "Subscriber    158386\n",
       "Customer       16566\n",
       "Name: user_type, dtype: int64"
      ]
     },
     "execution_count": 17,
     "metadata": {},
     "output_type": "execute_result"
    }
   ],
   "source": [
    "bike_ford['user_type'].value_counts()"
   ]
  },
  {
   "cell_type": "code",
   "execution_count": 18,
   "metadata": {
    "colab": {
     "base_uri": "https://localhost:8080/",
     "height": 598
    },
    "id": "fQOsWyBdC3gE",
    "outputId": "328a9e6b-5f04-4ee7-9cdb-16409ae0645a",
    "slideshow": {
     "slide_type": "skip"
    }
   },
   "outputs": [
    {
     "data": {
      "text/html": [
       "<div>\n",
       "<style scoped>\n",
       "    .dataframe tbody tr th:only-of-type {\n",
       "        vertical-align: middle;\n",
       "    }\n",
       "\n",
       "    .dataframe tbody tr th {\n",
       "        vertical-align: top;\n",
       "    }\n",
       "\n",
       "    .dataframe thead th {\n",
       "        text-align: right;\n",
       "    }\n",
       "</style>\n",
       "<table border=\"1\" class=\"dataframe\">\n",
       "  <thead>\n",
       "    <tr style=\"text-align: right;\">\n",
       "      <th></th>\n",
       "      <th>duration_sec</th>\n",
       "      <th>start_time</th>\n",
       "      <th>end_time</th>\n",
       "      <th>start_station_id</th>\n",
       "      <th>start_station_name</th>\n",
       "      <th>start_station_latitude</th>\n",
       "      <th>start_station_longitude</th>\n",
       "      <th>end_station_id</th>\n",
       "      <th>end_station_name</th>\n",
       "      <th>end_station_latitude</th>\n",
       "      <th>end_station_longitude</th>\n",
       "      <th>bike_id</th>\n",
       "      <th>user_type</th>\n",
       "      <th>member_birth_year</th>\n",
       "      <th>member_gender</th>\n",
       "      <th>bike_share_for_all_trip</th>\n",
       "      <th>member_age</th>\n",
       "    </tr>\n",
       "  </thead>\n",
       "  <tbody>\n",
       "    <tr>\n",
       "      <th>0</th>\n",
       "      <td>52185</td>\n",
       "      <td>2019-02-28 17:32:10.145</td>\n",
       "      <td>2019-03-01 08:01:55.975</td>\n",
       "      <td>21.0</td>\n",
       "      <td>Montgomery St BART Station (Market St at 2nd St)</td>\n",
       "      <td>37.789625</td>\n",
       "      <td>-122.400811</td>\n",
       "      <td>13.0</td>\n",
       "      <td>Commercial St at Montgomery St</td>\n",
       "      <td>37.794231</td>\n",
       "      <td>-122.402923</td>\n",
       "      <td>4902</td>\n",
       "      <td>Customer</td>\n",
       "      <td>1984.0</td>\n",
       "      <td>Male</td>\n",
       "      <td>No</td>\n",
       "      <td>37.0</td>\n",
       "    </tr>\n",
       "    <tr>\n",
       "      <th>2</th>\n",
       "      <td>61854</td>\n",
       "      <td>2019-02-28 12:13:13.218</td>\n",
       "      <td>2019-03-01 05:24:08.146</td>\n",
       "      <td>86.0</td>\n",
       "      <td>Market St at Dolores St</td>\n",
       "      <td>37.769305</td>\n",
       "      <td>-122.426826</td>\n",
       "      <td>3.0</td>\n",
       "      <td>Powell St BART Station (Market St at 4th St)</td>\n",
       "      <td>37.786375</td>\n",
       "      <td>-122.404904</td>\n",
       "      <td>5905</td>\n",
       "      <td>Customer</td>\n",
       "      <td>1972.0</td>\n",
       "      <td>Male</td>\n",
       "      <td>No</td>\n",
       "      <td>49.0</td>\n",
       "    </tr>\n",
       "    <tr>\n",
       "      <th>3</th>\n",
       "      <td>36490</td>\n",
       "      <td>2019-02-28 17:54:26.010</td>\n",
       "      <td>2019-03-01 04:02:36.842</td>\n",
       "      <td>375.0</td>\n",
       "      <td>Grove St at Masonic Ave</td>\n",
       "      <td>37.774836</td>\n",
       "      <td>-122.446546</td>\n",
       "      <td>70.0</td>\n",
       "      <td>Central Ave at Fell St</td>\n",
       "      <td>37.773311</td>\n",
       "      <td>-122.444293</td>\n",
       "      <td>6638</td>\n",
       "      <td>Subscriber</td>\n",
       "      <td>1989.0</td>\n",
       "      <td>Other</td>\n",
       "      <td>No</td>\n",
       "      <td>32.0</td>\n",
       "    </tr>\n",
       "    <tr>\n",
       "      <th>4</th>\n",
       "      <td>1585</td>\n",
       "      <td>2019-02-28 23:54:18.549</td>\n",
       "      <td>2019-03-01 00:20:44.074</td>\n",
       "      <td>7.0</td>\n",
       "      <td>Frank H Ogawa Plaza</td>\n",
       "      <td>37.804562</td>\n",
       "      <td>-122.271738</td>\n",
       "      <td>222.0</td>\n",
       "      <td>10th Ave at E 15th St</td>\n",
       "      <td>37.792714</td>\n",
       "      <td>-122.248780</td>\n",
       "      <td>4898</td>\n",
       "      <td>Subscriber</td>\n",
       "      <td>1974.0</td>\n",
       "      <td>Male</td>\n",
       "      <td>Yes</td>\n",
       "      <td>47.0</td>\n",
       "    </tr>\n",
       "    <tr>\n",
       "      <th>5</th>\n",
       "      <td>1793</td>\n",
       "      <td>2019-02-28 23:49:58.632</td>\n",
       "      <td>2019-03-01 00:19:51.760</td>\n",
       "      <td>93.0</td>\n",
       "      <td>4th St at Mission Bay Blvd S</td>\n",
       "      <td>37.770407</td>\n",
       "      <td>-122.391198</td>\n",
       "      <td>323.0</td>\n",
       "      <td>Broadway at Kearny</td>\n",
       "      <td>37.798014</td>\n",
       "      <td>-122.405950</td>\n",
       "      <td>5200</td>\n",
       "      <td>Subscriber</td>\n",
       "      <td>1959.0</td>\n",
       "      <td>Male</td>\n",
       "      <td>No</td>\n",
       "      <td>62.0</td>\n",
       "    </tr>\n",
       "    <tr>\n",
       "      <th>6</th>\n",
       "      <td>1147</td>\n",
       "      <td>2019-02-28 23:55:35.104</td>\n",
       "      <td>2019-03-01 00:14:42.588</td>\n",
       "      <td>300.0</td>\n",
       "      <td>Palm St at Willow St</td>\n",
       "      <td>37.317298</td>\n",
       "      <td>-121.884995</td>\n",
       "      <td>312.0</td>\n",
       "      <td>San Jose Diridon Station</td>\n",
       "      <td>37.329732</td>\n",
       "      <td>-121.901782</td>\n",
       "      <td>3803</td>\n",
       "      <td>Subscriber</td>\n",
       "      <td>1983.0</td>\n",
       "      <td>Female</td>\n",
       "      <td>No</td>\n",
       "      <td>38.0</td>\n",
       "    </tr>\n",
       "    <tr>\n",
       "      <th>7</th>\n",
       "      <td>1615</td>\n",
       "      <td>2019-02-28 23:41:06.766</td>\n",
       "      <td>2019-03-01 00:08:02.756</td>\n",
       "      <td>10.0</td>\n",
       "      <td>Washington St at Kearny St</td>\n",
       "      <td>37.795393</td>\n",
       "      <td>-122.404770</td>\n",
       "      <td>127.0</td>\n",
       "      <td>Valencia St at 21st St</td>\n",
       "      <td>37.756708</td>\n",
       "      <td>-122.421025</td>\n",
       "      <td>6329</td>\n",
       "      <td>Subscriber</td>\n",
       "      <td>1989.0</td>\n",
       "      <td>Male</td>\n",
       "      <td>No</td>\n",
       "      <td>32.0</td>\n",
       "    </tr>\n",
       "    <tr>\n",
       "      <th>8</th>\n",
       "      <td>1570</td>\n",
       "      <td>2019-02-28 23:41:48.790</td>\n",
       "      <td>2019-03-01 00:07:59.715</td>\n",
       "      <td>10.0</td>\n",
       "      <td>Washington St at Kearny St</td>\n",
       "      <td>37.795393</td>\n",
       "      <td>-122.404770</td>\n",
       "      <td>127.0</td>\n",
       "      <td>Valencia St at 21st St</td>\n",
       "      <td>37.756708</td>\n",
       "      <td>-122.421025</td>\n",
       "      <td>6548</td>\n",
       "      <td>Subscriber</td>\n",
       "      <td>1988.0</td>\n",
       "      <td>Other</td>\n",
       "      <td>No</td>\n",
       "      <td>33.0</td>\n",
       "    </tr>\n",
       "    <tr>\n",
       "      <th>9</th>\n",
       "      <td>1049</td>\n",
       "      <td>2019-02-28 23:49:47.699</td>\n",
       "      <td>2019-03-01 00:07:17.025</td>\n",
       "      <td>19.0</td>\n",
       "      <td>Post St at Kearny St</td>\n",
       "      <td>37.788975</td>\n",
       "      <td>-122.403452</td>\n",
       "      <td>121.0</td>\n",
       "      <td>Mission Playground</td>\n",
       "      <td>37.759210</td>\n",
       "      <td>-122.421339</td>\n",
       "      <td>6488</td>\n",
       "      <td>Subscriber</td>\n",
       "      <td>1992.0</td>\n",
       "      <td>Male</td>\n",
       "      <td>No</td>\n",
       "      <td>29.0</td>\n",
       "    </tr>\n",
       "    <tr>\n",
       "      <th>10</th>\n",
       "      <td>458</td>\n",
       "      <td>2019-02-28 23:57:57.211</td>\n",
       "      <td>2019-03-01 00:05:35.435</td>\n",
       "      <td>370.0</td>\n",
       "      <td>Jones St at Post St</td>\n",
       "      <td>37.787327</td>\n",
       "      <td>-122.413278</td>\n",
       "      <td>43.0</td>\n",
       "      <td>San Francisco Public Library (Grove St at Hyde...</td>\n",
       "      <td>37.778768</td>\n",
       "      <td>-122.415929</td>\n",
       "      <td>5318</td>\n",
       "      <td>Subscriber</td>\n",
       "      <td>1996.0</td>\n",
       "      <td>Female</td>\n",
       "      <td>Yes</td>\n",
       "      <td>25.0</td>\n",
       "    </tr>\n",
       "  </tbody>\n",
       "</table>\n",
       "</div>"
      ],
      "text/plain": [
       "    duration_sec              start_time                end_time  \\\n",
       "0          52185 2019-02-28 17:32:10.145 2019-03-01 08:01:55.975   \n",
       "2          61854 2019-02-28 12:13:13.218 2019-03-01 05:24:08.146   \n",
       "3          36490 2019-02-28 17:54:26.010 2019-03-01 04:02:36.842   \n",
       "4           1585 2019-02-28 23:54:18.549 2019-03-01 00:20:44.074   \n",
       "5           1793 2019-02-28 23:49:58.632 2019-03-01 00:19:51.760   \n",
       "6           1147 2019-02-28 23:55:35.104 2019-03-01 00:14:42.588   \n",
       "7           1615 2019-02-28 23:41:06.766 2019-03-01 00:08:02.756   \n",
       "8           1570 2019-02-28 23:41:48.790 2019-03-01 00:07:59.715   \n",
       "9           1049 2019-02-28 23:49:47.699 2019-03-01 00:07:17.025   \n",
       "10           458 2019-02-28 23:57:57.211 2019-03-01 00:05:35.435   \n",
       "\n",
       "    start_station_id                                start_station_name  \\\n",
       "0               21.0  Montgomery St BART Station (Market St at 2nd St)   \n",
       "2               86.0                           Market St at Dolores St   \n",
       "3              375.0                           Grove St at Masonic Ave   \n",
       "4                7.0                               Frank H Ogawa Plaza   \n",
       "5               93.0                      4th St at Mission Bay Blvd S   \n",
       "6              300.0                              Palm St at Willow St   \n",
       "7               10.0                        Washington St at Kearny St   \n",
       "8               10.0                        Washington St at Kearny St   \n",
       "9               19.0                              Post St at Kearny St   \n",
       "10             370.0                               Jones St at Post St   \n",
       "\n",
       "    start_station_latitude  start_station_longitude  end_station_id  \\\n",
       "0                37.789625              -122.400811            13.0   \n",
       "2                37.769305              -122.426826             3.0   \n",
       "3                37.774836              -122.446546            70.0   \n",
       "4                37.804562              -122.271738           222.0   \n",
       "5                37.770407              -122.391198           323.0   \n",
       "6                37.317298              -121.884995           312.0   \n",
       "7                37.795393              -122.404770           127.0   \n",
       "8                37.795393              -122.404770           127.0   \n",
       "9                37.788975              -122.403452           121.0   \n",
       "10               37.787327              -122.413278            43.0   \n",
       "\n",
       "                                     end_station_name  end_station_latitude  \\\n",
       "0                      Commercial St at Montgomery St             37.794231   \n",
       "2        Powell St BART Station (Market St at 4th St)             37.786375   \n",
       "3                              Central Ave at Fell St             37.773311   \n",
       "4                               10th Ave at E 15th St             37.792714   \n",
       "5                                  Broadway at Kearny             37.798014   \n",
       "6                            San Jose Diridon Station             37.329732   \n",
       "7                              Valencia St at 21st St             37.756708   \n",
       "8                              Valencia St at 21st St             37.756708   \n",
       "9                                  Mission Playground             37.759210   \n",
       "10  San Francisco Public Library (Grove St at Hyde...             37.778768   \n",
       "\n",
       "    end_station_longitude  bike_id   user_type  member_birth_year  \\\n",
       "0             -122.402923     4902    Customer             1984.0   \n",
       "2             -122.404904     5905    Customer             1972.0   \n",
       "3             -122.444293     6638  Subscriber             1989.0   \n",
       "4             -122.248780     4898  Subscriber             1974.0   \n",
       "5             -122.405950     5200  Subscriber             1959.0   \n",
       "6             -121.901782     3803  Subscriber             1983.0   \n",
       "7             -122.421025     6329  Subscriber             1989.0   \n",
       "8             -122.421025     6548  Subscriber             1988.0   \n",
       "9             -122.421339     6488  Subscriber             1992.0   \n",
       "10            -122.415929     5318  Subscriber             1996.0   \n",
       "\n",
       "   member_gender bike_share_for_all_trip  member_age  \n",
       "0           Male                      No        37.0  \n",
       "2           Male                      No        49.0  \n",
       "3          Other                      No        32.0  \n",
       "4           Male                     Yes        47.0  \n",
       "5           Male                      No        62.0  \n",
       "6         Female                      No        38.0  \n",
       "7           Male                      No        32.0  \n",
       "8          Other                      No        33.0  \n",
       "9           Male                      No        29.0  \n",
       "10        Female                     Yes        25.0  "
      ]
     },
     "execution_count": 18,
     "metadata": {},
     "output_type": "execute_result"
    }
   ],
   "source": [
    "bike_ford.head(10)"
   ]
  },
  {
   "cell_type": "markdown",
   "metadata": {
    "id": "jU783Gws5oBw",
    "slideshow": {
     "slide_type": "slide"
    }
   },
   "source": [
    "**D- Data Visualization**"
   ]
  },
  {
   "cell_type": "markdown",
   "metadata": {
    "id": "gYtBj_iu52qh",
    "slideshow": {
     "slide_type": "slide"
    }
   },
   "source": [
    "**1- Univariate**"
   ]
  },
  {
   "cell_type": "code",
   "execution_count": 19,
   "metadata": {
    "colab": {
     "base_uri": "https://localhost:8080/",
     "height": 390
    },
    "id": "8RSUJXnFFBDf",
    "outputId": "6fbe2a2a-013d-4e4f-b617-210403075e64",
    "slideshow": {
     "slide_type": "slide"
    }
   },
   "outputs": [
    {
     "data": {
      "image/png": "[encoded data removed]",
      "text/plain": [
       "<Figure size 576x432 with 1 Axes>"
      ]
     },
     "metadata": {
      "needs_background": "light"
     },
     "output_type": "display_data"
    }
   ],
   "source": [
    "plt.figure(figsize=[8, 6])\n",
    "bins = np.arange(0, bike_ford['member_age'].max()+10, 10)\n",
    "plt.hist(bike_ford['member_age'], bins=bins);\n",
    "plt.xlabel('Member Age');\n",
    "plt.ylabel('count');"
   ]
  },
  {
   "cell_type": "markdown",
   "metadata": {
    "id": "L0AsxqsKFa2T",
    "slideshow": {
     "slide_type": "skip"
    }
   },
   "source": [
    "here we found outlier values , greater than 80 so we will remove that out;iers\n"
   ]
  },
  {
   "cell_type": "code",
   "execution_count": 20,
   "metadata": {
    "id": "TNiaYqjXFZic",
    "slideshow": {
     "slide_type": "skip"
    }
   },
   "outputs": [],
   "source": [
    "bike_ford = bike_ford.query('member_age <= 80')\n"
   ]
  },
  {
   "cell_type": "markdown",
   "metadata": {
    "id": "uZ4FXV5A4P8b",
    "slideshow": {
     "slide_type": "skip"
    }
   },
   "source": [
    "Remove all outliers in member_age attribute"
   ]
  },
  {
   "cell_type": "code",
   "execution_count": 21,
   "metadata": {
    "id": "GFQWuOh7GSTE",
    "slideshow": {
     "slide_type": "skip"
    }
   },
   "outputs": [],
   "source": [
    "\n",
    "\n",
    "bike_ford['duration_minute'] = bike_ford['duration_sec']/60\n",
    "\n",
    "bike_ford['start_date'] = bike_ford.start_time.dt.strftime('%Y-%m-%d')\n",
    "bike_ford['start_hour'] = bike_ford.start_time.dt.strftime('%H')\n",
    "bike_ford['start_week'] = bike_ford.start_time.dt.strftime('%A')\n",
    "bike_ford['start_month'] = bike_ford.start_time.dt.strftime('%B')\n"
   ]
  },
  {
   "cell_type": "markdown",
   "metadata": {
    "id": "GiAtXcSR4tjI",
    "slideshow": {
     "slide_type": "skip"
    }
   },
   "source": [
    "make new attributes show start trip (hour,day,month)"
   ]
  },
  {
   "cell_type": "code",
   "execution_count": 22,
   "metadata": {
    "colab": {
     "base_uri": "https://localhost:8080/",
     "height": 333
    },
    "id": "sP3RqBxmIHHc",
    "outputId": "308b5726-85d8-47c9-ecba-2fe08504909c",
    "slideshow": {
     "slide_type": "skip"
    }
   },
   "outputs": [
    {
     "data": {
      "text/html": [
       "<div>\n",
       "<style scoped>\n",
       "    .dataframe tbody tr th:only-of-type {\n",
       "        vertical-align: middle;\n",
       "    }\n",
       "\n",
       "    .dataframe tbody tr th {\n",
       "        vertical-align: top;\n",
       "    }\n",
       "\n",
       "    .dataframe thead th {\n",
       "        text-align: right;\n",
       "    }\n",
       "</style>\n",
       "<table border=\"1\" class=\"dataframe\">\n",
       "  <thead>\n",
       "    <tr style=\"text-align: right;\">\n",
       "      <th></th>\n",
       "      <th>duration_sec</th>\n",
       "      <th>start_time</th>\n",
       "      <th>end_time</th>\n",
       "      <th>start_station_id</th>\n",
       "      <th>start_station_name</th>\n",
       "      <th>start_station_latitude</th>\n",
       "      <th>start_station_longitude</th>\n",
       "      <th>end_station_id</th>\n",
       "      <th>end_station_name</th>\n",
       "      <th>end_station_latitude</th>\n",
       "      <th>...</th>\n",
       "      <th>user_type</th>\n",
       "      <th>member_birth_year</th>\n",
       "      <th>member_gender</th>\n",
       "      <th>bike_share_for_all_trip</th>\n",
       "      <th>member_age</th>\n",
       "      <th>duration_minute</th>\n",
       "      <th>start_date</th>\n",
       "      <th>start_hour</th>\n",
       "      <th>start_week</th>\n",
       "      <th>start_month</th>\n",
       "    </tr>\n",
       "  </thead>\n",
       "  <tbody>\n",
       "    <tr>\n",
       "      <th>0</th>\n",
       "      <td>52185</td>\n",
       "      <td>2019-02-28 17:32:10.145</td>\n",
       "      <td>2019-03-01 08:01:55.975</td>\n",
       "      <td>21.0</td>\n",
       "      <td>Montgomery St BART Station (Market St at 2nd St)</td>\n",
       "      <td>37.789625</td>\n",
       "      <td>-122.400811</td>\n",
       "      <td>13.0</td>\n",
       "      <td>Commercial St at Montgomery St</td>\n",
       "      <td>37.794231</td>\n",
       "      <td>...</td>\n",
       "      <td>Customer</td>\n",
       "      <td>1984.0</td>\n",
       "      <td>Male</td>\n",
       "      <td>No</td>\n",
       "      <td>37.0</td>\n",
       "      <td>869.750000</td>\n",
       "      <td>2019-02-28</td>\n",
       "      <td>17</td>\n",
       "      <td>Thursday</td>\n",
       "      <td>February</td>\n",
       "    </tr>\n",
       "    <tr>\n",
       "      <th>2</th>\n",
       "      <td>61854</td>\n",
       "      <td>2019-02-28 12:13:13.218</td>\n",
       "      <td>2019-03-01 05:24:08.146</td>\n",
       "      <td>86.0</td>\n",
       "      <td>Market St at Dolores St</td>\n",
       "      <td>37.769305</td>\n",
       "      <td>-122.426826</td>\n",
       "      <td>3.0</td>\n",
       "      <td>Powell St BART Station (Market St at 4th St)</td>\n",
       "      <td>37.786375</td>\n",
       "      <td>...</td>\n",
       "      <td>Customer</td>\n",
       "      <td>1972.0</td>\n",
       "      <td>Male</td>\n",
       "      <td>No</td>\n",
       "      <td>49.0</td>\n",
       "      <td>1030.900000</td>\n",
       "      <td>2019-02-28</td>\n",
       "      <td>12</td>\n",
       "      <td>Thursday</td>\n",
       "      <td>February</td>\n",
       "    </tr>\n",
       "    <tr>\n",
       "      <th>3</th>\n",
       "      <td>36490</td>\n",
       "      <td>2019-02-28 17:54:26.010</td>\n",
       "      <td>2019-03-01 04:02:36.842</td>\n",
       "      <td>375.0</td>\n",
       "      <td>Grove St at Masonic Ave</td>\n",
       "      <td>37.774836</td>\n",
       "      <td>-122.446546</td>\n",
       "      <td>70.0</td>\n",
       "      <td>Central Ave at Fell St</td>\n",
       "      <td>37.773311</td>\n",
       "      <td>...</td>\n",
       "      <td>Subscriber</td>\n",
       "      <td>1989.0</td>\n",
       "      <td>Other</td>\n",
       "      <td>No</td>\n",
       "      <td>32.0</td>\n",
       "      <td>608.166667</td>\n",
       "      <td>2019-02-28</td>\n",
       "      <td>17</td>\n",
       "      <td>Thursday</td>\n",
       "      <td>February</td>\n",
       "    </tr>\n",
       "    <tr>\n",
       "      <th>4</th>\n",
       "      <td>1585</td>\n",
       "      <td>2019-02-28 23:54:18.549</td>\n",
       "      <td>2019-03-01 00:20:44.074</td>\n",
       "      <td>7.0</td>\n",
       "      <td>Frank H Ogawa Plaza</td>\n",
       "      <td>37.804562</td>\n",
       "      <td>-122.271738</td>\n",
       "      <td>222.0</td>\n",
       "      <td>10th Ave at E 15th St</td>\n",
       "      <td>37.792714</td>\n",
       "      <td>...</td>\n",
       "      <td>Subscriber</td>\n",
       "      <td>1974.0</td>\n",
       "      <td>Male</td>\n",
       "      <td>Yes</td>\n",
       "      <td>47.0</td>\n",
       "      <td>26.416667</td>\n",
       "      <td>2019-02-28</td>\n",
       "      <td>23</td>\n",
       "      <td>Thursday</td>\n",
       "      <td>February</td>\n",
       "    </tr>\n",
       "    <tr>\n",
       "      <th>5</th>\n",
       "      <td>1793</td>\n",
       "      <td>2019-02-28 23:49:58.632</td>\n",
       "      <td>2019-03-01 00:19:51.760</td>\n",
       "      <td>93.0</td>\n",
       "      <td>4th St at Mission Bay Blvd S</td>\n",
       "      <td>37.770407</td>\n",
       "      <td>-122.391198</td>\n",
       "      <td>323.0</td>\n",
       "      <td>Broadway at Kearny</td>\n",
       "      <td>37.798014</td>\n",
       "      <td>...</td>\n",
       "      <td>Subscriber</td>\n",
       "      <td>1959.0</td>\n",
       "      <td>Male</td>\n",
       "      <td>No</td>\n",
       "      <td>62.0</td>\n",
       "      <td>29.883333</td>\n",
       "      <td>2019-02-28</td>\n",
       "      <td>23</td>\n",
       "      <td>Thursday</td>\n",
       "      <td>February</td>\n",
       "    </tr>\n",
       "  </tbody>\n",
       "</table>\n",
       "<p>5 rows × 22 columns</p>\n",
       "</div>"
      ],
      "text/plain": [
       "   duration_sec              start_time                end_time  \\\n",
       "0         52185 2019-02-28 17:32:10.145 2019-03-01 08:01:55.975   \n",
       "2         61854 2019-02-28 12:13:13.218 2019-03-01 05:24:08.146   \n",
       "3         36490 2019-02-28 17:54:26.010 2019-03-01 04:02:36.842   \n",
       "4          1585 2019-02-28 23:54:18.549 2019-03-01 00:20:44.074   \n",
       "5          1793 2019-02-28 23:49:58.632 2019-03-01 00:19:51.760   \n",
       "\n",
       "   start_station_id                                start_station_name  \\\n",
       "0              21.0  Montgomery St BART Station (Market St at 2nd St)   \n",
       "2              86.0                           Market St at Dolores St   \n",
       "3             375.0                           Grove St at Masonic Ave   \n",
       "4               7.0                               Frank H Ogawa Plaza   \n",
       "5              93.0                      4th St at Mission Bay Blvd S   \n",
       "\n",
       "   start_station_latitude  start_station_longitude  end_station_id  \\\n",
       "0               37.789625              -122.400811            13.0   \n",
       "2               37.769305              -122.426826             3.0   \n",
       "3               37.774836              -122.446546            70.0   \n",
       "4               37.804562              -122.271738           222.0   \n",
       "5               37.770407              -122.391198           323.0   \n",
       "\n",
       "                               end_station_name  end_station_latitude  ...  \\\n",
       "0                Commercial St at Montgomery St             37.794231  ...   \n",
       "2  Powell St BART Station (Market St at 4th St)             37.786375  ...   \n",
       "3                        Central Ave at Fell St             37.773311  ...   \n",
       "4                         10th Ave at E 15th St             37.792714  ...   \n",
       "5                            Broadway at Kearny             37.798014  ...   \n",
       "\n",
       "    user_type  member_birth_year member_gender  bike_share_for_all_trip  \\\n",
       "0    Customer             1984.0          Male                       No   \n",
       "2    Customer             1972.0          Male                       No   \n",
       "3  Subscriber             1989.0         Other                       No   \n",
       "4  Subscriber             1974.0          Male                      Yes   \n",
       "5  Subscriber             1959.0          Male                       No   \n",
       "\n",
       "  member_age duration_minute  start_date  start_hour start_week start_month  \n",
       "0       37.0      869.750000  2019-02-28          17   Thursday    February  \n",
       "2       49.0     1030.900000  2019-02-28          12   Thursday    February  \n",
       "3       32.0      608.166667  2019-02-28          17   Thursday    February  \n",
       "4       47.0       26.416667  2019-02-28          23   Thursday    February  \n",
       "5       62.0       29.883333  2019-02-28          23   Thursday    February  \n",
       "\n",
       "[5 rows x 22 columns]"
      ]
     },
     "execution_count": 22,
     "metadata": {},
     "output_type": "execute_result"
    }
   ],
   "source": [
    "bike_ford.head()"
   ]
  },
  {
   "cell_type": "code",
   "execution_count": 48,
   "metadata": {
    "id": "VBcCJPV381EP",
    "slideshow": {
     "slide_type": "skip"
    }
   },
   "outputs": [],
   "source": [
    "def count_plot_2d(X,Hue):\n",
    "    sb.countplot(data=bike_ford,x=X,hue=Hue);\n",
    "    plt.xlabel(X)\n",
    "    plt.ylabel('Count')"
   ]
  },
  {
   "cell_type": "code",
   "execution_count": 27,
   "metadata": {
    "id": "SrAXbXRm9A84",
    "slideshow": {
     "slide_type": "skip"
    }
   },
   "outputs": [],
   "source": [
    "base_color = sb.color_palette('colorblind')[0]\n",
    "def count_plot(X):\n",
    "    base_color = sb.color_palette('colorblind')[0]\n",
    "    sb.countplot(data=bike_ford, x=X,color=base_color, order = bike_ford[X].value_counts().index);\n",
    "    plt.xlabel(X);\n",
    "    plt.ylabel('Count');\n"
   ]
  },
  {
   "cell_type": "code",
   "execution_count": 28,
   "metadata": {
    "colab": {
     "base_uri": "https://localhost:8080/",
     "height": 389
    },
    "id": "Yb49CPLS9dHC",
    "outputId": "5849b628-3122-4cd9-8596-024e3edc95f2",
    "slideshow": {
     "slide_type": "skip"
    }
   },
   "outputs": [
    {
     "data": {
      "image/png": "[encoded data removed]",
      "text/plain": [
       "<Figure size 432x288 with 1 Axes>"
      ]
     },
     "metadata": {
      "needs_background": "light"
     },
     "output_type": "display_data"
    }
   ],
   "source": [
    "count_plot('start_hour')"
   ]
  },
  {
   "cell_type": "code",
   "execution_count": 29,
   "metadata": {
    "colab": {
     "base_uri": "https://localhost:8080/",
     "height": 406
    },
    "id": "RX-W6DCUKVJe",
    "outputId": "fc2b172f-e58d-4a0b-ca7c-deb6a0688283",
    "slideshow": {
     "slide_type": "skip"
    }
   },
   "outputs": [
    {
     "data": {
      "text/plain": [
       "Text(0, 0.5, 'Count')"
      ]
     },
     "execution_count": 29,
     "metadata": {},
     "output_type": "execute_result"
    },
    {
     "data": {
      "image/png": "[encoded data removed]",
      "text/plain": [
       "<Figure size 432x288 with 1 Axes>"
      ]
     },
     "metadata": {
      "needs_background": "light"
     },
     "output_type": "display_data"
    }
   ],
   "source": [
    "\n",
    "day = ['Monday', 'Tuesday', 'Wednesday', 'Thursday', 'Friday', 'Saturday', 'Sunday']\n",
    "weekday = pd.api.types.CategoricalDtype(ordered=True, categories=day)\n",
    "bike_ford['start_week'] = bike_ford['start_week'].astype(weekday)\n",
    "sb.countplot(data=bike_ford,x='start_week',color=base_color);\n",
    "plt.xlabel('Trip Start Day')\n",
    "plt.ylabel('Count')"
   ]
  },
  {
   "cell_type": "markdown",
   "metadata": {
    "id": "vNVI-9NYQN9m",
    "slideshow": {
     "slide_type": "skip"
    }
   },
   "source": [
    "large amount of trips started in Thursday and Tuesday"
   ]
  },
  {
   "cell_type": "code",
   "execution_count": 30,
   "metadata": {
    "colab": {
     "base_uri": "https://localhost:8080/",
     "height": 389
    },
    "id": "JBcf3_F8MZUs",
    "outputId": "3467efc7-ad5e-4274-de24-ffb8eae2c35d",
    "slideshow": {
     "slide_type": "skip"
    }
   },
   "outputs": [
    {
     "data": {
      "image/png": "[encoded data removed]",
      "text/plain": [
       "<Figure size 432x288 with 1 Axes>"
      ]
     },
     "metadata": {
      "needs_background": "light"
     },
     "output_type": "display_data"
    }
   ],
   "source": [
    "count_plot('start_month')"
   ]
  },
  {
   "cell_type": "markdown",
   "metadata": {
    "id": "-tYcYRdR6VBA",
    "slideshow": {
     "slide_type": "slide"
    }
   },
   "source": [
    "**2- Bivariate**"
   ]
  },
  {
   "cell_type": "markdown",
   "metadata": {
    "id": "jhAlAgdg1ejR",
    "slideshow": {
     "slide_type": "slide"
    }
   },
   "source": [
    "**2.1 -Relation between member gender and bike share all trip attributes**"
   ]
  },
  {
   "cell_type": "code",
   "execution_count": 31,
   "metadata": {
    "colab": {
     "base_uri": "https://localhost:8080/",
     "height": 166
    },
    "id": "s9QHKMIvNCVG",
    "outputId": "4bdb2255-378e-4278-a3ee-35b6fe6f6163",
    "slideshow": {
     "slide_type": "slide"
    }
   },
   "outputs": [
    {
     "data": {
      "text/html": [
       "<div>\n",
       "<style scoped>\n",
       "    .dataframe tbody tr th:only-of-type {\n",
       "        vertical-align: middle;\n",
       "    }\n",
       "\n",
       "    .dataframe tbody tr th {\n",
       "        vertical-align: top;\n",
       "    }\n",
       "\n",
       "    .dataframe thead th {\n",
       "        text-align: right;\n",
       "    }\n",
       "</style>\n",
       "<table border=\"1\" class=\"dataframe\">\n",
       "  <thead>\n",
       "    <tr style=\"text-align: right;\">\n",
       "      <th>bike_share_for_all_trip</th>\n",
       "      <th>No</th>\n",
       "      <th>Yes</th>\n",
       "    </tr>\n",
       "    <tr>\n",
       "      <th>member_gender</th>\n",
       "      <th></th>\n",
       "      <th></th>\n",
       "    </tr>\n",
       "  </thead>\n",
       "  <tbody>\n",
       "    <tr>\n",
       "      <th>Female</th>\n",
       "      <td>37197</td>\n",
       "      <td>3568</td>\n",
       "    </tr>\n",
       "    <tr>\n",
       "      <th>Male</th>\n",
       "      <td>117264</td>\n",
       "      <td>13076</td>\n",
       "    </tr>\n",
       "    <tr>\n",
       "      <th>Other</th>\n",
       "      <td>2996</td>\n",
       "      <td>648</td>\n",
       "    </tr>\n",
       "  </tbody>\n",
       "</table>\n",
       "</div>"
      ],
      "text/plain": [
       "bike_share_for_all_trip      No    Yes\n",
       "member_gender                         \n",
       "Female                    37197   3568\n",
       "Male                     117264  13076\n",
       "Other                      2996    648"
      ]
     },
     "execution_count": 31,
     "metadata": {},
     "output_type": "execute_result"
    }
   ],
   "source": [
    "# is bike share attribute depend on member gender\n",
    "ct_counts=bike_ford.groupby(['member_gender','bike_share_for_all_trip']).size()\n",
    "plt.rcParams['figure.figsize'] = 8, 6\n",
    "ct_counts=ct_counts.reset_index(name='count')\n",
    "ct_counts=ct_counts.pivot(index='member_gender',columns='bike_share_for_all_trip',values='count')\n",
    "ct_counts"
   ]
  },
  {
   "cell_type": "markdown",
   "metadata": {
    "id": "wzPW1UkT17pl",
    "slideshow": {
     "slide_type": "skip"
    }
   },
   "source": [
    "i choose heat map plot(clustered plot) because member gender is qualitative and bike share for all trip is qualitative.\n"
   ]
  },
  {
   "cell_type": "code",
   "execution_count": 32,
   "metadata": {
    "colab": {
     "base_uri": "https://localhost:8080/",
     "height": 389
    },
    "id": "Yjwyqm9WUyD4",
    "outputId": "bf1405e8-6493-4f0c-d9b3-5d54b3d4cd92",
    "slideshow": {
     "slide_type": "slide"
    }
   },
   "outputs": [
    {
     "data": {
      "image/png": "[encoded data removed]",
      "text/plain": [
       "<Figure size 576x432 with 2 Axes>"
      ]
     },
     "metadata": {
      "needs_background": "light"
     },
     "output_type": "display_data"
    }
   ],
   "source": [
    "sb.heatmap(ct_counts,annot=True,fmt='d');"
   ]
  },
  {
   "cell_type": "markdown",
   "metadata": {
    "id": "Ea3SuG726mNy",
    "slideshow": {
     "slide_type": "slide"
    }
   },
   "source": [
    "**2.2- relation between member_age and bike share for all trip**"
   ]
  },
  {
   "cell_type": "code",
   "execution_count": 33,
   "metadata": {
    "colab": {
     "base_uri": "https://localhost:8080/",
     "height": 389
    },
    "id": "_gZ9aAuUZ-aT",
    "outputId": "d8ce5df9-3573-4436-9f08-f337941fe8f4",
    "slideshow": {
     "slide_type": "slide"
    }
   },
   "outputs": [
    {
     "data": {
      "image/png": "[encoded data removed]",
      "text/plain": [
       "<Figure size 576x432 with 1 Axes>"
      ]
     },
     "metadata": {
      "needs_background": "light"
     },
     "output_type": "display_data"
    }
   ],
   "source": [
    "#relation between age and bike share\n",
    "base_color=sb.color_palette()[0]\n",
    "sb.boxplot(data=bike_ford,x='bike_share_for_all_trip',y='member_age',color=base_color);"
   ]
  },
  {
   "cell_type": "markdown",
   "metadata": {
    "id": "fUTWO3dHb4PT",
    "slideshow": {
     "slide_type": "skip"
    }
   },
   "source": [
    "members who share have less median age(less than 30), thats mean youth member share more than other "
   ]
  },
  {
   "cell_type": "markdown",
   "metadata": {
    "id": "ug8nECJn1MCR",
    "slideshow": {
     "slide_type": "skip"
    }
   },
   "source": [
    "**2.3- Relation between user type and duration**\n",
    "\n",
    "\n",
    "\n"
   ]
  },
  {
   "cell_type": "code",
   "execution_count": 34,
   "metadata": {
    "colab": {
     "base_uri": "https://localhost:8080/",
     "height": 388
    },
    "id": "8-MTnmfUafQ5",
    "outputId": "076fc019-6d8a-4a8b-9b8b-6761d47fc2c6",
    "slideshow": {
     "slide_type": "skip"
    }
   },
   "outputs": [
    {
     "data": {
      "image/png": "[encoded data removed]",
      "text/plain": [
       "<Figure size 576x432 with 1 Axes>"
      ]
     },
     "metadata": {
      "needs_background": "light"
     },
     "output_type": "display_data"
    }
   ],
   "source": [
    "# trip duration vs user_type\n",
    "\n",
    "sb.boxplot(data=bike_ford, x='user_type', y='duration_minute', color=base_color);\n",
    "plt.xlabel('User Type');\n",
    "plt.ylabel('Trip Duration in Minute');"
   ]
  },
  {
   "cell_type": "markdown",
   "metadata": {
    "id": "1aowyFVXd_ML",
    "slideshow": {
     "slide_type": "skip"
    }
   },
   "source": [
    "there are a lot of outliers that make visualize that relation hard , so i will remove any outlier using IRQ , then try to visualize it"
   ]
  },
  {
   "cell_type": "code",
   "execution_count": 35,
   "metadata": {
    "colab": {
     "base_uri": "https://localhost:8080/"
    },
    "id": "OvmNE_Qbd-S2",
    "outputId": "0cef6b2d-71d8-4fa3-d768-c05228a4d1c1",
    "slideshow": {
     "slide_type": "skip"
    }
   },
   "outputs": [
    {
     "data": {
      "text/plain": [
       "count    174749.000000\n",
       "mean         11.738343\n",
       "std          27.384592\n",
       "min           1.016667\n",
       "25%           5.383333\n",
       "50%           8.516667\n",
       "75%          13.150000\n",
       "max        1409.133333\n",
       "Name: duration_minute, dtype: float64"
      ]
     },
     "execution_count": 35,
     "metadata": {},
     "output_type": "execute_result"
    }
   ],
   "source": [
    "bike_ford['duration_minute'].describe()"
   ]
  },
  {
   "cell_type": "code",
   "execution_count": 36,
   "metadata": {
    "id": "QZLepy50eizg",
    "slideshow": {
     "slide_type": "skip"
    }
   },
   "outputs": [],
   "source": [
    "Q1=1.016\n",
    "Q2=5.3833333\n",
    "Q3=8.5166667\n",
    "IRQ=Q3-Q1\n",
    "max=Q3+(1.5*IRQ)\n",
    "bike_ford_type=bike_ford.query('duration_minute <='+str(max))"
   ]
  },
  {
   "cell_type": "markdown",
   "metadata": {
    "id": "T5IyTfeA0yjN",
    "slideshow": {
     "slide_type": "skip"
    }
   },
   "source": [
    "i choose box plot because user type is qualitative and duration is quantitative.\n"
   ]
  },
  {
   "cell_type": "code",
   "execution_count": 37,
   "metadata": {
    "colab": {
     "base_uri": "https://localhost:8080/",
     "height": 388
    },
    "id": "omHJbyoCfe3-",
    "outputId": "b62df8c4-7e52-4a40-aff8-6f99ff6d1742",
    "slideshow": {
     "slide_type": "slide"
    }
   },
   "outputs": [
    {
     "data": {
      "image/png": "[encoded data removed]",
      "text/plain": [
       "<Figure size 576x432 with 1 Axes>"
      ]
     },
     "metadata": {
      "needs_background": "light"
     },
     "output_type": "display_data"
    }
   ],
   "source": [
    "\n",
    "sb.boxplot(data=bike_ford_type, x='user_type', y='duration_minute', color=base_color);\n",
    "plt.xlabel('User Type');\n",
    "plt.ylabel('Trip Duration in Minute');"
   ]
  },
  {
   "cell_type": "markdown",
   "metadata": {
    "id": "70zh7OrhflNi",
    "slideshow": {
     "slide_type": "skip"
    }
   },
   "source": [
    "now we see the median of subscriber user are 7.5 minute/trip, and for customer above 10 , customers spend more minutes in trip than subscribers"
   ]
  },
  {
   "cell_type": "markdown",
   "metadata": {
    "id": "lTEvHJqD6-en",
    "slideshow": {
     "slide_type": "slide"
    }
   },
   "source": [
    "**2.4- relation between gender and duration**"
   ]
  },
  {
   "cell_type": "markdown",
   "metadata": {
    "id": "wM4QQdpk7KFo",
    "slideshow": {
     "slide_type": "skip"
    }
   },
   "source": [
    "i choose box plot because gender is qualtative,duration is quantitative "
   ]
  },
  {
   "cell_type": "code",
   "execution_count": 38,
   "metadata": {
    "colab": {
     "base_uri": "https://localhost:8080/",
     "height": 388
    },
    "id": "F5XsIFAlgHXy",
    "outputId": "b392ed3e-3a29-4fd9-fbe0-70628ed7706c",
    "slideshow": {
     "slide_type": "slide"
    }
   },
   "outputs": [
    {
     "data": {
      "image/png": "[encoded data removed]",
      "text/plain": [
       "<Figure size 576x432 with 1 Axes>"
      ]
     },
     "metadata": {
      "needs_background": "light"
     },
     "output_type": "display_data"
    }
   ],
   "source": [
    "#gender vs duration\n",
    "\n",
    "sb.boxplot(data=bike_ford_type, x='member_gender', y='duration_minute', color=base_color);\n",
    "plt.xlabel('Member Gender');\n",
    "plt.ylabel('Trip Duration in Minute');"
   ]
  },
  {
   "cell_type": "markdown",
   "metadata": {
    "id": "KUKm39yO74_5",
    "slideshow": {
     "slide_type": "skip"
    }
   },
   "source": [
    "Female have median above Male in Trip/minute ratio , Female make large number of minutes in trips than male"
   ]
  },
  {
   "cell_type": "markdown",
   "metadata": {
    "id": "bYyb0l8c8N1z",
    "slideshow": {
     "slide_type": "slide"
    }
   },
   "source": [
    "**2.5- relation between start hour attribute and user type**"
   ]
  },
  {
   "cell_type": "markdown",
   "metadata": {
    "id": "e7VMh_1_9wNw",
    "slideshow": {
     "slide_type": "skip"
    }
   },
   "source": [
    "i choose Bar plot"
   ]
  },
  {
   "cell_type": "code",
   "execution_count": 49,
   "metadata": {
    "colab": {
     "base_uri": "https://localhost:8080/",
     "height": 405
    },
    "id": "3POVGNzs985A",
    "outputId": "e970f461-3d15-4adc-830a-dec3bd0f5894",
    "slideshow": {
     "slide_type": "slide"
    }
   },
   "outputs": [
    {
     "data": {
      "image/png": "[encoded data removed]",
      "text/plain": [
       "<Figure size 576x432 with 1 Axes>"
      ]
     },
     "metadata": {
      "needs_background": "light"
     },
     "output_type": "display_data"
    }
   ],
   "source": [
    "count_plot_2d('start_hour','user_type')"
   ]
  },
  {
   "cell_type": "markdown",
   "metadata": {
    "id": "QXO-kqEo-xVy",
    "slideshow": {
     "slide_type": "skip"
    }
   },
   "source": [
    "as we see number of subscriber large than customer (another relation represent that), also in that relation we see (time from 05 to 01) number of trips less than in the middle of the day , we see subscriber make large number of trips (between 17 and 8) "
   ]
  },
  {
   "cell_type": "markdown",
   "metadata": {
    "id": "EM1DxvPF_0PD",
    "slideshow": {
     "slide_type": "slide"
    }
   },
   "source": [
    "**2.6- relation between start _day and user type**"
   ]
  },
  {
   "cell_type": "markdown",
   "metadata": {
    "id": "hR31AYttEpQJ",
    "slideshow": {
     "slide_type": "skip"
    }
   },
   "source": [
    "i choose bar plot because two attributes are qualtative"
   ]
  },
  {
   "cell_type": "code",
   "execution_count": 51,
   "metadata": {
    "colab": {
     "base_uri": "https://localhost:8080/",
     "height": 405
    },
    "id": "ve96_WMgBGJ4",
    "outputId": "6609d5b6-9cae-44cf-d0e2-a14c97930f9f",
    "slideshow": {
     "slide_type": "slide"
    }
   },
   "outputs": [
    {
     "data": {
      "image/png": "[encoded data removed]",
      "text/plain": [
       "<Figure size 576x432 with 1 Axes>"
      ]
     },
     "metadata": {
      "needs_background": "light"
     },
     "output_type": "display_data"
    }
   ],
   "source": [
    "count_plot_2d('start_week','user_type')"
   ]
  },
  {
   "cell_type": "markdown",
   "metadata": {
    "id": "_CrJAmlGACt_",
    "slideshow": {
     "slide_type": "slide"
    }
   },
   "source": [
    "**2.7- relation between start hour and Gender**"
   ]
  },
  {
   "cell_type": "code",
   "execution_count": 52,
   "metadata": {
    "colab": {
     "base_uri": "https://localhost:8080/",
     "height": 405
    },
    "id": "IAe_feFzBHL6",
    "outputId": "31118602-678c-4306-d33d-3dbfbecee394",
    "slideshow": {
     "slide_type": "slide"
    }
   },
   "outputs": [
    {
     "data": {
      "image/png": "[encoded data removed]",
      "text/plain": [
       "<Figure size 576x432 with 1 Axes>"
      ]
     },
     "metadata": {
      "needs_background": "light"
     },
     "output_type": "display_data"
    }
   ],
   "source": [
    "count_plot_2d('start_hour','member_gender')"
   ]
  },
  {
   "cell_type": "markdown",
   "metadata": {
    "id": "86PMxKOP_9Vm",
    "slideshow": {
     "slide_type": "slide"
    }
   },
   "source": [
    "**2.8- relation between start _day and Gender**"
   ]
  },
  {
   "cell_type": "code",
   "execution_count": 54,
   "metadata": {
    "colab": {
     "base_uri": "https://localhost:8080/",
     "height": 405
    },
    "id": "b7Zc1_BjBICj",
    "outputId": "ea26bfc6-0472-4324-aba3-2c5f4bd2f2c1",
    "slideshow": {
     "slide_type": "slide"
    }
   },
   "outputs": [
    {
     "data": {
      "image/png": "[encoded data removed]",
      "text/plain": [
       "<Figure size 576x432 with 1 Axes>"
      ]
     },
     "metadata": {
      "needs_background": "light"
     },
     "output_type": "display_data"
    }
   ],
   "source": [
    "count_plot_2d('start_week','member_gender')"
   ]
  },
  {
   "cell_type": "markdown",
   "metadata": {
    "id": "1ZAGGGDtAO5B",
    "slideshow": {
     "slide_type": "slide"
    }
   },
   "source": [
    "**2.9-relation between member age and user type**"
   ]
  },
  {
   "cell_type": "code",
   "execution_count": 43,
   "metadata": {
    "colab": {
     "base_uri": "https://localhost:8080/",
     "height": 405
    },
    "id": "3W0DSv_tBIu3",
    "outputId": "c9973b97-dfba-43a0-9100-4473b39d6915",
    "slideshow": {
     "slide_type": "slide"
    }
   },
   "outputs": [
    {
     "data": {
      "text/plain": [
       "Text(0, 0.5, 'Member Age')"
      ]
     },
     "execution_count": 43,
     "metadata": {},
     "output_type": "execute_result"
    },
    {
     "data": {
      "image/png": "[encoded data removed]",
      "text/plain": [
       "<Figure size 576x432 with 1 Axes>"
      ]
     },
     "metadata": {
      "needs_background": "light"
     },
     "output_type": "display_data"
    }
   ],
   "source": [
    "sb.boxplot(data=bike_ford,x='user_type',y='member_age',color=base_color);\n",
    "plt.xlabel('User Type')\n",
    "plt.ylabel('Member Age')"
   ]
  },
  {
   "cell_type": "markdown",
   "metadata": {
    "id": "Uc-ErrE0HBC_",
    "slideshow": {
     "slide_type": "skip"
    }
   },
   "source": [
    "median of ages in two clasess subscriber and customer almost same , and two classes have the same age stage members, but the max age in subscriber class larger than customer"
   ]
  },
  {
   "cell_type": "markdown",
   "metadata": {
    "id": "IFusAFr3Ar50",
    "slideshow": {
     "slide_type": "slide"
    }
   },
   "source": [
    "**2.10- relation between start day and trip duration**"
   ]
  },
  {
   "cell_type": "code",
   "execution_count": 44,
   "metadata": {
    "colab": {
     "base_uri": "https://localhost:8080/",
     "height": 388
    },
    "id": "CfsHlca9BKTG",
    "outputId": "eed9ddfe-5157-43cb-8250-cfc39b7f73a5",
    "slideshow": {
     "slide_type": "slide"
    }
   },
   "outputs": [
    {
     "data": {
      "image/png": "[encoded data removed]",
      "text/plain": [
       "<Figure size 576x432 with 1 Axes>"
      ]
     },
     "metadata": {
      "needs_background": "light"
     },
     "output_type": "display_data"
    }
   ],
   "source": [
    "sb.barplot(data=bike_ford, x='start_week', y='duration_minute', color=base_color);\n",
    "plt.xlabel('Day of Week');\n",
    "plt.ylabel('Avg. Trip Duration in Minute');\n"
   ]
  },
  {
   "cell_type": "markdown",
   "metadata": {
    "id": "Ch2s0c2_JV_W",
    "slideshow": {
     "slide_type": "skip"
    }
   },
   "source": [
    "weekend have greatest number of minutes per trip , so member prefered making trips in weekend."
   ]
  },
  {
   "cell_type": "markdown",
   "metadata": {
    "id": "ynQT2uWWArz4",
    "slideshow": {
     "slide_type": "slide"
    }
   },
   "source": [
    "**2.11- relation between start hour and Trip Duration**"
   ]
  },
  {
   "cell_type": "code",
   "execution_count": 45,
   "metadata": {
    "colab": {
     "base_uri": "https://localhost:8080/",
     "height": 388
    },
    "id": "wdaXWlckBLGG",
    "outputId": "5066117e-b194-4e5b-c046-1ffadb9b5a4d",
    "slideshow": {
     "slide_type": "slide"
    }
   },
   "outputs": [
    {
     "data": {
      "image/png": "[encoded data removed]",
      "text/plain": [
       "<Figure size 576x432 with 1 Axes>"
      ]
     },
     "metadata": {
      "needs_background": "light"
     },
     "output_type": "display_data"
    }
   ],
   "source": [
    "sb.barplot(data=bike_ford, x='start_hour', y='duration_minute', color=base_color);\n",
    "plt.xlabel('hour');\n",
    "plt.ylabel('Avg. Trip Duration in Minute');\n"
   ]
  },
  {
   "cell_type": "markdown",
   "metadata": {
    "id": "6qllVWb0J9FM",
    "slideshow": {
     "slide_type": "skip"
    }
   },
   "source": [
    "members whoes starting at 3 and 2 PM make large number of minutes per trip"
   ]
  },
  {
   "cell_type": "markdown",
   "metadata": {
    "id": "fXn-Fy2eArwQ",
    "slideshow": {
     "slide_type": "slide"
    }
   },
   "source": [
    "**3- Multivariate Visulaization:**"
   ]
  },
  {
   "cell_type": "markdown",
   "metadata": {
    "id": "l956YZ8gArsU",
    "slideshow": {
     "slide_type": "slide"
    }
   },
   "source": [
    "**3.1- Relation between average duration per trip and start day , with user type**"
   ]
  },
  {
   "cell_type": "code",
   "execution_count": 46,
   "metadata": {
    "colab": {
     "base_uri": "https://localhost:8080/",
     "height": 388
    },
    "id": "UH00tDbKCGgm",
    "outputId": "7b809663-e68f-43fd-e76e-710cb56f3479",
    "slideshow": {
     "slide_type": "slide"
    }
   },
   "outputs": [
    {
     "data": {
      "image/png": "[encoded data removed]",
      "text/plain": [
       "<Figure size 576x432 with 1 Axes>"
      ]
     },
     "metadata": {
      "needs_background": "light"
     },
     "output_type": "display_data"
    }
   ],
   "source": [
    "sb.pointplot(data=bike_ford, x='start_week', y='duration_minute', hue='user_type');\n",
    "plt.xlabel('Start Day');\n",
    "plt.ylabel('Avg.Duration in Minute per Trip');"
   ]
  },
  {
   "cell_type": "markdown",
   "metadata": {
    "id": "YeHRVsIlPnq5",
    "slideshow": {
     "slide_type": "skip"
    }
   },
   "source": [
    "Weekend effect , as we see in sunday and saturday the greatest number of minutes per trip , and customer members have largest minutes than subscriber in  weekend and all the week  "
   ]
  },
  {
   "cell_type": "markdown",
   "metadata": {
    "id": "4s0OUN0pAroo",
    "slideshow": {
     "slide_type": "slide"
    }
   },
   "source": [
    "**3.2- relation betweem avg Duration , Age and user type**"
   ]
  },
  {
   "cell_type": "code",
   "execution_count": 47,
   "metadata": {
    "colab": {
     "base_uri": "https://localhost:8080/",
     "height": 422
    },
    "id": "uJOG3JXtCwuZ",
    "outputId": "bed48229-ed0b-4308-cc0a-5528a0005281",
    "slideshow": {
     "slide_type": "slide"
    }
   },
   "outputs": [
    {
     "name": "stderr",
     "output_type": "stream",
     "text": [
      "C:\\Users\\mosta\\anaconda3\\lib\\site-packages\\seaborn\\axisgrid.py:316: UserWarning: The `size` parameter has been renamed to `height`; please update your code.\n",
      "  warnings.warn(msg, UserWarning)\n"
     ]
    },
    {
     "data": {
      "image/png": "[encoded data removed]",
      "text/plain": [
       "<Figure size 720x360 with 2 Axes>"
      ]
     },
     "metadata": {
      "needs_background": "light"
     },
     "output_type": "display_data"
    }
   ],
   "source": [
    "user_type = sb.FacetGrid(data = bike_ford, col = 'user_type', col_wrap = 2, size = 5,xlim = [10, 100], ylim = [-1000, 9000])\n",
    "user_type.map(plt.scatter, 'member_age', 'duration_minute', alpha= 1)\n",
    "user_type.set_xlabels('Age')\n",
    "user_type.set_ylabels('Duration_minute')\n",
    "plt.show()"
   ]
  },
  {
   "cell_type": "markdown",
   "metadata": {
    "id": "cX22cfAfDJBa",
    "slideshow": {
     "slide_type": "skip"
    }
   },
   "source": [
    "as we see customers who's age between 20 and 30 have greater avg duration per trip than subscriber"
   ]
  },
  {
   "cell_type": "markdown",
   "metadata": {
    "id": "x_J8GNJzDKlG",
    "slideshow": {
     "slide_type": "slide"
    }
   },
   "source": [
    "**E- Conclusion and important Relations:**"
   ]
  },
  {
   "cell_type": "markdown",
   "metadata": {
    "id": "5G3s_WLd_9R-",
    "slideshow": {
     "slide_type": "slide"
    }
   },
   "source": [
    "#### There are alot of relation that help us to understand a lot of things , and make us answer some question like which gender have largest number of trips and minuters per trip?\n",
    "Here i will show some conclusion and helpful relations with some comments:\n",
    "## 1- Gender and Avg. duration in trip:\n",
    "Female make largest number of minuter per trip , and that doesn't mean number of females larger than male or other. \n",
    "## 2- Start day vs. user type, and duration vs user type:\n",
    "subscriber have largest number in trip start relation in all days , but when we take a look on duration and user type , we can see customer make largest number of minuter per trip , thats mean subscriber start a lot of trips but never long trips they prefered shortest one.\n",
    "## 3-which hour that member start trip make him have largest duration per trip?\n",
    "members whoes starting at 3 and 2 PM make large number of minutes per trip\n",
    "### 4-which day that member start on it trip and also make large duration in trip ?  \n",
    "Weekend effect , as we see in sunday and saturday the greatest number of minutes per trip , and customer members have largest minutes than subscriber in  weekend and all the week  \n",
    "### 5- which age stage that share all the trip?\n",
    "we see the stage from 27 to 40 have highest sharing ratio \n",
    "### 6- which day members prefered to start their trips ?\n",
    "Thursday and Tuesday ,but that two days have lowest number of minutes per trip, that mean members start in that day short trips\n"
   ]
  },
  {
   "cell_type": "code",
   "execution_count": null,
   "metadata": {
    "colab": {
     "base_uri": "https://localhost:8080/"
    },
    "id": "eqDB8bb7IaTj",
    "outputId": "ad51f9c3-b553-447f-974f-4b7b8d8bd161"
   },
   "outputs": [],
   "source": [
    "!jupyter nbconvert presentation.ipynb --to slides --template output-toggle.tpl --post serve"
   ]
  },
  {
   "cell_type": "code",
   "execution_count": null,
   "metadata": {
    "id": "U7NT3Xg_dHfa"
   },
   "outputs": [],
   "source": []
  }
 ],
 "metadata": {
  "accelerator": "GPU",
  "celltoolbar": "Slideshow",
  "colab": {
   "collapsed_sections": [],
   "name": "fordgobike.ipynb",
   "provenance": []
  },
  "kernelspec": {
   "display_name": "Python 3",
   "language": "python",
   "name": "python3"
  },
  "language_info": {
   "codemirror_mode": {
    "name": "ipython",
    "version": 3
   },
   "file_extension": ".py",
   "mimetype": "text/x-python",
   "name": "python",
   "nbconvert_exporter": "python",
   "pygments_lexer": "ipython3",
   "version": "3.8.5"
  }
 },
 "nbformat": 4,
 "nbformat_minor": 1
}
